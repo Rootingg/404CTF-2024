{
  "cells": [
    {
      "cell_type": "code",
      "execution_count": null,
      "id": "yThJybg-QwBH",
      "metadata": {
        "colab": {
          "base_uri": "https://localhost:8080/"
        },
        "id": "yThJybg-QwBH",
        "outputId": "2af38d6a-d87f-4328-bb31-a9fb66fd3bb8"
      },
      "outputs": [
        {
          "output_type": "stream",
          "name": "stdout",
          "text": [
            "Requirement already satisfied: numpy in /usr/local/lib/python3.10/dist-packages (1.25.2)\n",
            "Requirement already satisfied: perceval-quandela in /usr/local/lib/python3.10/dist-packages (0.10.4)\n",
            "Requirement already satisfied: qiskit in /usr/local/lib/python3.10/dist-packages (1.0.2)\n",
            "Requirement already satisfied: sympy in /usr/local/lib/python3.10/dist-packages (from perceval-quandela) (1.12)\n",
            "Requirement already satisfied: scipy in /usr/local/lib/python3.10/dist-packages (from perceval-quandela) (1.11.4)\n",
            "Requirement already satisfied: tabulate in /usr/local/lib/python3.10/dist-packages (from perceval-quandela) (0.9.0)\n",
            "Requirement already satisfied: matplotlib in /usr/local/lib/python3.10/dist-packages (from perceval-quandela) (3.7.1)\n",
            "Requirement already satisfied: exqalibur~=0.3.1 in /usr/local/lib/python3.10/dist-packages (from perceval-quandela) (0.3.1)\n",
            "Requirement already satisfied: multipledispatch in /usr/local/lib/python3.10/dist-packages (from perceval-quandela) (1.0.0)\n",
            "Requirement already satisfied: protobuf>=3.20.3 in /usr/local/lib/python3.10/dist-packages (from perceval-quandela) (3.20.3)\n",
            "Requirement already satisfied: drawsvg>=2.0 in /usr/local/lib/python3.10/dist-packages (from perceval-quandela) (2.3.0)\n",
            "Requirement already satisfied: Deprecated in /usr/local/lib/python3.10/dist-packages (from perceval-quandela) (1.2.14)\n",
            "Requirement already satisfied: requests in /usr/local/lib/python3.10/dist-packages (from perceval-quandela) (2.31.0)\n",
            "Requirement already satisfied: networkx~=3.1 in /usr/local/lib/python3.10/dist-packages (from perceval-quandela) (3.3)\n",
            "Requirement already satisfied: latexcodec in /usr/local/lib/python3.10/dist-packages (from perceval-quandela) (3.0.0)\n",
            "Requirement already satisfied: platformdirs in /usr/local/lib/python3.10/dist-packages (from perceval-quandela) (4.2.1)\n",
            "Requirement already satisfied: rustworkx>=0.14.0 in /usr/local/lib/python3.10/dist-packages (from qiskit) (0.14.2)\n",
            "Requirement already satisfied: dill>=0.3 in /usr/local/lib/python3.10/dist-packages (from qiskit) (0.3.8)\n",
            "Requirement already satisfied: python-dateutil>=2.8.0 in /usr/local/lib/python3.10/dist-packages (from qiskit) (2.8.2)\n",
            "Requirement already satisfied: stevedore>=3.0.0 in /usr/local/lib/python3.10/dist-packages (from qiskit) (5.2.0)\n",
            "Requirement already satisfied: typing-extensions in /usr/local/lib/python3.10/dist-packages (from qiskit) (4.11.0)\n",
            "Requirement already satisfied: symengine>=0.11 in /usr/local/lib/python3.10/dist-packages (from qiskit) (0.11.0)\n",
            "Requirement already satisfied: six>=1.5 in /usr/local/lib/python3.10/dist-packages (from python-dateutil>=2.8.0->qiskit) (1.16.0)\n",
            "Requirement already satisfied: pbr!=2.1.0,>=2.0.0 in /usr/local/lib/python3.10/dist-packages (from stevedore>=3.0.0->qiskit) (6.0.0)\n",
            "Requirement already satisfied: mpmath>=0.19 in /usr/local/lib/python3.10/dist-packages (from sympy->perceval-quandela) (1.3.0)\n",
            "Requirement already satisfied: wrapt<2,>=1.10 in /usr/local/lib/python3.10/dist-packages (from Deprecated->perceval-quandela) (1.14.1)\n",
            "Requirement already satisfied: contourpy>=1.0.1 in /usr/local/lib/python3.10/dist-packages (from matplotlib->perceval-quandela) (1.2.1)\n",
            "Requirement already satisfied: cycler>=0.10 in /usr/local/lib/python3.10/dist-packages (from matplotlib->perceval-quandela) (0.12.1)\n",
            "Requirement already satisfied: fonttools>=4.22.0 in /usr/local/lib/python3.10/dist-packages (from matplotlib->perceval-quandela) (4.51.0)\n",
            "Requirement already satisfied: kiwisolver>=1.0.1 in /usr/local/lib/python3.10/dist-packages (from matplotlib->perceval-quandela) (1.4.5)\n",
            "Requirement already satisfied: packaging>=20.0 in /usr/local/lib/python3.10/dist-packages (from matplotlib->perceval-quandela) (24.0)\n",
            "Requirement already satisfied: pillow>=6.2.0 in /usr/local/lib/python3.10/dist-packages (from matplotlib->perceval-quandela) (9.4.0)\n",
            "Requirement already satisfied: pyparsing>=2.3.1 in /usr/local/lib/python3.10/dist-packages (from matplotlib->perceval-quandela) (3.1.2)\n",
            "Requirement already satisfied: charset-normalizer<4,>=2 in /usr/local/lib/python3.10/dist-packages (from requests->perceval-quandela) (3.3.2)\n",
            "Requirement already satisfied: idna<4,>=2.5 in /usr/local/lib/python3.10/dist-packages (from requests->perceval-quandela) (3.7)\n",
            "Requirement already satisfied: urllib3<3,>=1.21.1 in /usr/local/lib/python3.10/dist-packages (from requests->perceval-quandela) (2.0.7)\n",
            "Requirement already satisfied: certifi>=2017.4.17 in /usr/local/lib/python3.10/dist-packages (from requests->perceval-quandela) (2024.2.2)\n"
          ]
        }
      ],
      "source": [
        "!pip install numpy perceval-quandela qiskit"
      ]
    },
    {
      "cell_type": "markdown",
      "id": "55349f7c-05fa-4a31-9c59-94705f93e507",
      "metadata": {
        "id": "55349f7c-05fa-4a31-9c59-94705f93e507"
      },
      "source": [
        "## Avant de commencer\n",
        "\n",
        "Voici les versions 1 et 2 qubits des fonctions utilitaires."
      ]
    },
    {
      "cell_type": "code",
      "execution_count": null,
      "id": "d2ae73a7-84be-49d4-9a81-31f1aa0a3950",
      "metadata": {
        "id": "d2ae73a7-84be-49d4-9a81-31f1aa0a3950"
      },
      "outputs": [],
      "source": [
        "from perceval import pdisplay, PS, BS, Circuit, BasicState, Processor, PERM\n",
        "from perceval.components import Unitary\n",
        "from perceval.backends import BackendFactory\n",
        "from perceval.algorithm import Analyzer, Sampler\n",
        "import perceval as pcvl\n",
        "from exqalibur import FockState\n",
        "\n",
        "from qiskit.visualization import plot_bloch_multivector\n",
        "from qiskit.quantum_info import Statevector\n",
        "\n",
        "import matplotlib.pyplot as plt\n",
        "from numpy import pi, cos, sin, sqrt\n",
        "import numpy as np\n",
        "\n",
        "from typing import List, Dict, Tuple, Union, Optional\n",
        "\n",
        "qubits = {\n",
        "    \"0\": BasicState([1, 0]),\n",
        "    \"1\": BasicState([0, 1]),\n",
        "    \"00\": BasicState([1, 0, 1, 0]),\n",
        "    \"01\": BasicState([1, 0, 0, 1]),\n",
        "    \"10\": BasicState([0, 1, 1, 0]),\n",
        "    \"11\": BasicState([0, 1, 0, 1])\n",
        "}\n",
        "qubits_ = {qubits[k]: k for k in qubits}\n",
        "sqlist = [qubits[\"0\"], qubits[\"1\"]]\n",
        "mqlist = [qubits[\"00\"], qubits[\"01\"], qubits[\"10\"], qubits[\"11\"]]\n",
        "\n",
        "def analyze(circuit: Circuit, input_states: Optional[FockState] = None, output_states: Optional[FockState] = None) \\\n",
        "        -> None:\n",
        "    if len(circuit.depths()) == 2:\n",
        "        states = sqlist\n",
        "    else:\n",
        "        states = mqlist\n",
        "\n",
        "    if input_states is None:\n",
        "        input_states = states\n",
        "    if output_states is None:\n",
        "        output_states = states\n",
        "\n",
        "    p = Processor(\"Naive\", circuit)\n",
        "    a = Analyzer(p, input_states, output_states, mapping=qubits_)\n",
        "    pdisplay(a)\n",
        "\n",
        "def amplitudes(circuit: Circuit, input_state: Optional[FockState] = None, output_states: Optional[FockState] = None) \\\n",
        "        -> (complex, complex):\n",
        "    if input_state is None:\n",
        "        if len(circuit.depths()) == 2:\n",
        "            input_state = qubits[\"0\"]\n",
        "        else:\n",
        "            input_state = qubits[\"00\"]\n",
        "\n",
        "    if output_states is None:\n",
        "        if len(circuit.depths()) == 2:\n",
        "            output_states = sqlist\n",
        "        else:\n",
        "            output_states = mqlist\n",
        "\n",
        "    b = BackendFactory.get_backend(\"Naive\")\n",
        "    b.set_circuit(circuit)\n",
        "    b.set_input_state(input_state)\n",
        "    return {qubits_[k]: roundc(b.prob_amplitude(k)) for k in output_states}\n",
        "\n",
        "def measure2p(processor: Processor, input_state: Optional[FockState] = None) -> None:\n",
        "    if input_state is None:\n",
        "        input_state = qubits[\"00\"]\n",
        "\n",
        "    # On force la règle : la somme des photons par paire de rail doit être égale à 1.\n",
        "    processor.set_postselection(pcvl.utils.PostSelect(\"[0,1]==1 & [2,3]==1\"))\n",
        "    processor.min_detected_photons_filter(0)\n",
        "\n",
        "    # On fait finalement la mesure :\n",
        "    processor.with_input(input_state)\n",
        "    measure2p_s = pcvl.algorithm.Sampler(processor)\n",
        "\n",
        "    print(f\"Avec l'entrée : {qubits_[input_state]}\")\n",
        "    for k, v in measure2p_s.probs()[\"results\"].items():\n",
        "        print(f\"> {qubits_[k]}: {round(v, 2)}\")\n",
        "\n",
        "def roundc(c, decimals: int = 2):\n",
        "    return round(c.real, decimals) + round(c.imag, decimals) * 1j"
      ]
    },
    {
      "cell_type": "markdown",
      "id": "c205ecad-b578-4a2a-a27b-619ca4fc8a44",
      "metadata": {
        "id": "c205ecad-b578-4a2a-a27b-619ca4fc8a44"
      },
      "source": [
        "# Challenge 3 : On passe aux choses sérieuses\n",
        "\n",
        "![dicaprio_laugh_meme.jpg](https://i.imgflip.com/8nfi64.jpg)\n",
        "\n",
        "## Systèmes multiples\n",
        "Les notions abordées pour les systèmes simples, *concaténation de portes, mesures, probabilités...*, sont encore valables pour les **systèmes multiples**. Pour rajouter un qubit, il faudra appliquer des **produits tensoriels aux portes**, mais aussi aux états de base.\n",
        "\n",
        "Supposons que l'on ait un qubit $A$ et un qubit $B$, respectivement dans l'état $|\\psi\\rangle$ et $|\\phi\\rangle$. Alors le système $(A, B)$ est dans l'état $|\\psi\\rangle\\otimes|\\phi\\rangle = |\\psi\\otimes\\phi\\rangle$ (dépend des conventions d'écriture).\n",
        "\n",
        "La base canonique devient alors :\n",
        "$$\n",
        "|00\\rangle = |0\\rangle \\otimes |0\\rangle = \\begin{pmatrix} 1 \\\\ 0 \\end{pmatrix}\\otimes \\begin{pmatrix} 1 \\\\ 0 \\end{pmatrix} = \\begin{pmatrix}\n",
        "1 \\times \\begin{pmatrix} 1 \\\\ 0 \\end{pmatrix} \\\\\n",
        "0 \\times \\begin{pmatrix} 1 \\\\ 0 \\end{pmatrix}\n",
        "\\end{pmatrix} = \\begin{pmatrix} 1 \\\\ 0 \\\\ 0 \\\\ 0  \\end{pmatrix},\n",
        "$$\n",
        "$$\n",
        "|01\\rangle = \\begin{pmatrix} 0 \\\\ 1 \\\\ 0 \\\\ 0  \\end{pmatrix},\n",
        "$$\n",
        "$$\n",
        "|10\\rangle = \\begin{pmatrix} 0 \\\\ 0 \\\\ 1 \\\\ 0  \\end{pmatrix},\n",
        "$$\n",
        "$$\n",
        "|11\\rangle = \\begin{pmatrix} 0 \\\\ 0 \\\\ 0 \\\\ 1  \\end{pmatrix}\n",
        "$$\n",
        "\n",
        "C'est la même chose pour les portes logiques, **si l'on applique $U_1$ à $A$ et $U_2$ à $B$, alors on applique $U_1 \\otimes U_2$ à $A \\otimes B$.**\n",
        "\n",
        "Par exemple, si on applique $H$ à $|0\\rangle$ et rien (donc l'identité) à $|1\\rangle$. La matrice de l'opération sur le système est ainsi $H\\otimes I$. Le circuit est le suivant :"
      ]
    },
    {
      "cell_type": "code",
      "execution_count": null,
      "id": "ed97f7ab-8076-4520-95b0-d4ca2ac73e8b",
      "metadata": {
        "colab": {
          "base_uri": "https://localhost:8080/",
          "height": 302
        },
        "id": "ed97f7ab-8076-4520-95b0-d4ca2ac73e8b",
        "outputId": "9abc6b8c-485d-4fda-a050-3515b5d7cc01"
      },
      "outputs": [
        {
          "output_type": "execute_result",
          "data": {
            "text/plain": [
              "<drawsvg.drawing.Drawing at 0x7fa8615a4550>"
            ],
            "image/svg+xml": "<?xml version=\"1.0\" encoding=\"UTF-8\"?>\n<svg xmlns=\"http://www.w3.org/2000/svg\" xmlns:xlink=\"http://www.w3.org/1999/xlink\"\n     width=\"257.5\" height=\"281.25\" viewBox=\"-28.0 0 206.0 225.0\">\n<defs>\n</defs>\n<path d=\"M10,25 L25,25\" stroke-width=\"3\" stroke=\"darkred\" stroke-linejoin=\"miter\" fill=\"none\" />\n<path d=\"M10,75 L25,75\" stroke-width=\"3\" stroke=\"darkred\" stroke-linejoin=\"miter\" fill=\"none\" />\n<path d=\"M10,125 L25,125\" stroke-width=\"3\" stroke=\"darkred\" stroke-linejoin=\"miter\" fill=\"none\" />\n<path d=\"M10,175 L25,175\" stroke-width=\"3\" stroke=\"darkred\" stroke-linejoin=\"miter\" fill=\"none\" />\n<path d=\"M25,25 L53,25 L72,44\" stroke=\"darkred\" stroke-width=\"3\" fill=\"none\" />\n<path d=\"M78,44 L97,25 L125,25\" stroke=\"darkred\" stroke-width=\"3\" fill=\"none\" />\n<path d=\"M25,75 L53,75 L72,56\" stroke=\"darkred\" stroke-width=\"3\" fill=\"none\" />\n<path d=\"M78,56 L97,75 L125,75\" stroke=\"darkred\" stroke-width=\"3\" fill=\"none\" />\n<path d=\"M50,43 L100,43 L100,57 L50,57 Z\" stroke=\"black\" fill=\"black\" stroke-linejoin=\"miter\" />\n<text x=\"75\" y=\"85\" font-size=\"7\" text-anchor=\"middle\"></text>\n<text x=\"75\" y=\"26\" font-size=\"7\" text-anchor=\"middle\"></text>\n<path d=\"M50,43 L100,43 L100,47 L50,47 Z\" stroke=\"black\" fill=\"lightgray\" stroke-linejoin=\"miter\" />\n<path d=\"M93,50 L103,50 L103,60 L93,60 Z\" stroke=\"black\" fill=\"aquamarine\" stroke-linejoin=\"miter\" />\n<text x=\"98\" y=\"57\" font-size=\"6\" text-anchor=\"middle\">H</text>\n<path d=\"M25,125 L125,125\" stroke=\"darkred\" stroke-width=\"3\" fill=\"none\" />\n<path d=\"M25,175 L125,175\" stroke=\"darkred\" stroke-width=\"3\" fill=\"none\" />\n<path d=\"M125,25 L140,25\" stroke-width=\"3\" stroke=\"darkred\" stroke-linejoin=\"miter\" fill=\"none\" />\n<path d=\"M125,75 L140,75\" stroke-width=\"3\" stroke=\"darkred\" stroke-linejoin=\"miter\" fill=\"none\" />\n<path d=\"M125,125 L140,125\" stroke-width=\"3\" stroke=\"darkred\" stroke-linejoin=\"miter\" fill=\"none\" />\n<path d=\"M125,175 L140,175\" stroke-width=\"3\" stroke=\"darkred\" stroke-linejoin=\"miter\" fill=\"none\" />\n<text x=\"150\" y=\"28\" font-size=\"6\" text-anchor=\"end\">0</text>\n<text x=\"150\" y=\"78\" font-size=\"6\" text-anchor=\"end\">1</text>\n<text x=\"150\" y=\"128\" font-size=\"6\" text-anchor=\"end\">2</text>\n<text x=\"150\" y=\"178\" font-size=\"6\" text-anchor=\"end\">3</text>\n<text x=\"0\" y=\"28\" font-size=\"6\" text-anchor=\"start\">0</text>\n<text x=\"0\" y=\"78\" font-size=\"6\" text-anchor=\"start\">1</text>\n<text x=\"0\" y=\"128\" font-size=\"6\" text-anchor=\"start\">2</text>\n<text x=\"0\" y=\"178\" font-size=\"6\" text-anchor=\"start\">3</text>\n</svg>"
          },
          "metadata": {},
          "execution_count": 18
        }
      ],
      "source": [
        "c = Circuit(4) // (0, BS.H())\n",
        "pdisplay(c)"
      ]
    },
    {
      "cell_type": "markdown",
      "id": "b9965913-2c32-4fbb-8ca9-7cf41577fa39",
      "metadata": {
        "id": "b9965913-2c32-4fbb-8ca9-7cf41577fa39"
      },
      "source": [
        "On s'attend à avoir :\n",
        "$$\n",
        "\\DeclareMathOperator{\\H}{H}\n",
        "\\DeclareMathOperator{\\I}{I}\n",
        "$$\n",
        "\n",
        "$$\n",
        "|0\\rangle \\otimes |1\\rangle \\rightarrow \\begin{cases}\n",
        "    \\text{En haut : } |0\\rangle \\longrightarrow \\H \\longrightarrow \\frac{1}{\\sqrt{2}}|0\\rangle+\\frac{1}{\\sqrt{2}}|1\\rangle \\\\\n",
        "    \\text{En bas :  } |1\\rangle \\longrightarrow \\I \\longrightarrow |1\\rangle\n",
        "\\end{cases} \\rightarrow \\left(\\frac{1}{\\sqrt{2}}|0\\rangle+\\frac{1}{\\sqrt{2}}|1\\rangle\\right)\\otimes|1\\rangle\n",
        "$$\n",
        "\n",
        "Ce qui donne l'état :\n",
        "$$\n",
        "\\left(\\frac{1}{\\sqrt{2}}|0\\rangle+\\frac{1}{\\sqrt{2}}|1\\rangle\\right)\\otimes|1\\rangle = \\frac{1}{\\sqrt{2}}|01\\rangle+\\frac{1}{\\sqrt{2}}|11\\rangle\n",
        "$$\n",
        "\n",
        "En pratique on détermine la porte logique $U$, on a $U = H\\otimes I$, donc :\n",
        "$$\n",
        "U = \\frac{1}{\\sqrt{2}}\\begin{pmatrix}1 & 1 \\\\ 1& -1\\end{pmatrix} \\otimes \\begin{pmatrix} 1&0 \\\\ 0& 1 \\end{pmatrix} = \\frac{1}{\\sqrt{2}}\\begin{pmatrix} 1\\times\\begin{pmatrix} 1&0 \\\\ 0& 1 \\end{pmatrix}&1\\times\\begin{pmatrix} 1&0 \\\\ 0& 1 \\end{pmatrix}\\\\1\\times\\begin{pmatrix} 1&0 \\\\ 0& 1 \\end{pmatrix}&-1\\times\\begin{pmatrix} 1&0 \\\\ 0& 1 \\end{pmatrix} \\end{pmatrix}= \\frac{1}{\\sqrt{2}}\\begin{pmatrix} 1&0&1&0\\\\0&1&0&1\\\\1&0&-1&0\\\\0&1&0&-1\\end{pmatrix}\n",
        "$$\n",
        "\n",
        "Ce qui donne avec notre entrée :\n",
        "$$\n",
        "|01\\rangle = \\begin{pmatrix} 0\\\\1\\\\0\\\\0\\end{pmatrix},\n",
        "$$\n",
        "$$\n",
        "\\frac{1}{\\sqrt{2}}\\begin{pmatrix} 1&0&1&0\\\\0&1&0&1\\\\1&0&-1&0\\\\0&1&0&-1\\end{pmatrix} \\begin{pmatrix} 0\\\\1\\\\0\\\\0\\end{pmatrix} = \\frac{1}{\\sqrt{2}}\\begin{pmatrix} 0\\\\1\\\\0\\\\1\\end{pmatrix} = \\frac{1}{\\sqrt{2}} |01\\rangle + \\frac{1}{\\sqrt{2}} |11\\rangle\n",
        "$$\n",
        "\n",
        "Qui correspond bien à l'attendu.\n",
        "\n",
        "*Si vous souhaitez avoir une explication plus détaillée, vous pouvez regarder ce cours, proposé par IBM : https://learning.quantum.ibm.com/course/basics-of-quantum-information/multiple-systems*.\n",
        "\n",
        "## L'intrication quantique\n",
        "\n",
        "Une propriété très intéressante des qubits, est qu'ils peuvent être séparés, mais aussi être **intriqués**. C'est-à-dire dépendant l'un de l'autre. Cela permet par exemple, d'agir sur un qubit, et d'obtenir des informations sur le deuxième.\n",
        "\n",
        "Si l'on prend l'état intriqué $|\\psi\\rangle=\\frac{1}{\\sqrt{2}}(|00\\rangle + |11\\rangle)$, et que l'on mesure le premier qubit (on a une chance sur deux d'avoir $0$ et réciproquement $1$), l'état du deuxième qubit est entièrement déterminé, sans que l'on ait eu à le mesurer ! En effet, si l'on mesure $0$ pour le premier qubit, alors le deuxième est *forcément* aussi à $0$. Cependant, la mesure du premier qubit étant aléatoire, cela ne permet pas de téléporter de l'information plus vite que la vitesse de la lumière, car de l'autre point de vue, on ne sait pas quel est l'état de la mesure (avant de recevoir l'information par un canal classique par exemple).\n",
        "\n",
        "Un contre-exemple est l'état $|\\psi\\rangle=\\frac{1}{2}(|00\\rangle + |01\\rangle + |10\\rangle + |11\\rangle) = \\frac{1}{\\sqrt{2}} (|0\\rangle + |1\\rangle) \\otimes \\frac{1}{\\sqrt{2}}(|0\\rangle + |1\\rangle)$, mesurer le premier qubit ne donne aucune information sur le deuxième, les deux qubits sont **indépendants** ou **séparables**.\n",
        "\n",
        "## La porte *Controlled-NOT* (CNOT)\n",
        "\n",
        "La porte phare de l'intrication quantique est la porte contrôlée *NOT* (ou *CNOT* ou *cX*). Elle agit sur 2 qubits, et n'**effectue l'opération *NOT* sur le second qubit que lorsque le premier qubit est $|1\\rangle$ et sinon le laisse inchangé**. Sa matrice est la suivante :\n",
        "\n",
        "$$\n",
        "\\DeclareMathOperator{\\CNOT}{CNOT}\n",
        "$$\n",
        "\n",
        "$$\n",
        "\\CNOT = \\begin{pmatrix}1&0&0&0\\\\0&1&0&0\\\\0&0&0&1\\\\0&0&1&0\\end{pmatrix}\n",
        "$$\n",
        "Ou encore :\n",
        "$$\n",
        "\\CNOT =\n",
        "\\begin{cases}\n",
        "    |00 \\rangle \\xrightarrow[]{I \\otimes I} |00 \\rangle \\\\\n",
        "    |01 \\rangle \\xrightarrow[]{I \\otimes I} |01 \\rangle \\\\\n",
        "    |10 \\rangle \\xrightarrow[]{I \\otimes NOT} |11 \\rangle \\\\\n",
        "    |11 \\rangle \\xrightarrow[]{I \\otimes NOT} |10 \\rangle\n",
        "\\end{cases}\n",
        "$$\n",
        "\n",
        "Son implémentation avec des photons est assez technique, et elle cache des problèmes liés à notre façon d'encoder des qubits. Nous allons donc nous contenter de la définition proposée par Quandela, afin de pouvoir utiliser cette porte dans nos circuits."
      ]
    },
    {
      "cell_type": "code",
      "execution_count": null,
      "id": "0a5ccea5-9e67-40ea-8568-274617c722f9",
      "metadata": {
        "id": "0a5ccea5-9e67-40ea-8568-274617c722f9"
      },
      "outputs": [],
      "source": [
        "from perceval.components import catalog\n",
        "cnot = catalog[\"klm cnot\"].build_circuit()\n",
        "# https://github.com/Quandela/Perceval/blob/main/perceval/components/core_catalog/klm_cnot.py"
      ]
    },
    {
      "cell_type": "code",
      "execution_count": null,
      "id": "65bb2208-9e10-4ff4-8ae8-1f0730845399",
      "metadata": {
        "colab": {
          "base_uri": "https://localhost:8080/",
          "height": 552
        },
        "id": "65bb2208-9e10-4ff4-8ae8-1f0730845399",
        "outputId": "ddfb9f4a-946e-4e15-a5ce-99c2d3302ca1"
      },
      "outputs": [
        {
          "output_type": "execute_result",
          "data": {
            "text/plain": [
              "<drawsvg.drawing.Drawing at 0x7fa8613f01c0>"
            ],
            "image/svg+xml": "<?xml version=\"1.0\" encoding=\"UTF-8\"?>\n<svg xmlns=\"http://www.w3.org/2000/svg\" xmlns:xlink=\"http://www.w3.org/1999/xlink\"\n     width=\"1323.75\" height=\"531.25\" viewBox=\"-29.5 0 1059.0 425.0\">\n<defs>\n</defs>\n<path d=\"M10,25 L25,25\" stroke-width=\"3\" stroke=\"darkred\" stroke-linejoin=\"miter\" fill=\"none\" />\n<path d=\"M10,75 L25,75\" stroke-width=\"3\" stroke=\"darkred\" stroke-linejoin=\"miter\" fill=\"none\" />\n<path d=\"M10,125 L25,125\" stroke-width=\"3\" stroke=\"darkred\" stroke-linejoin=\"miter\" fill=\"none\" />\n<path d=\"M10,175 L25,175\" stroke-width=\"3\" stroke=\"darkred\" stroke-linejoin=\"miter\" fill=\"none\" />\n<path d=\"M10,225 L25,225\" stroke-width=\"3\" stroke=\"darkred\" stroke-linejoin=\"miter\" fill=\"none\" />\n<path d=\"M10,275 L25,275\" stroke-width=\"3\" stroke=\"darkred\" stroke-linejoin=\"miter\" fill=\"none\" />\n<path d=\"M10,325 L25,325\" stroke-width=\"3\" stroke=\"darkred\" stroke-linejoin=\"miter\" fill=\"none\" />\n<path d=\"M10,375 L25,375\" stroke-width=\"3\" stroke=\"darkred\" stroke-linejoin=\"miter\" fill=\"none\" />\n<path d=\"M28,75 L72,175\" stroke=\"white\" stroke-width=\"6\" fill=\"none\" />\n<path d=\"M25,75 L28,75 L72,175 L75,175\" stroke=\"darkred\" stroke-width=\"3\" fill=\"none\" />\n<path d=\"M28,125 L72,275\" stroke=\"white\" stroke-width=\"6\" fill=\"none\" />\n<path d=\"M25,125 L28,125 L72,275 L75,275\" stroke=\"darkred\" stroke-width=\"3\" fill=\"none\" />\n<path d=\"M28,175 L72,225\" stroke=\"white\" stroke-width=\"6\" fill=\"none\" />\n<path d=\"M25,175 L28,175 L72,225 L75,225\" stroke=\"darkred\" stroke-width=\"3\" fill=\"none\" />\n<path d=\"M28,225 L72,75\" stroke=\"white\" stroke-width=\"6\" fill=\"none\" />\n<path d=\"M25,225 L28,225 L72,75 L75,75\" stroke=\"darkred\" stroke-width=\"3\" fill=\"none\" />\n<path d=\"M28,275 L72,125\" stroke=\"white\" stroke-width=\"6\" fill=\"none\" />\n<path d=\"M25,275 L28,275 L72,125 L75,125\" stroke=\"darkred\" stroke-width=\"3\" fill=\"none\" />\n<path d=\"M75,225 L103,225 L122,244\" stroke=\"darkred\" stroke-width=\"3\" fill=\"none\" />\n<path d=\"M128,244 L147,225 L175,225\" stroke=\"darkred\" stroke-width=\"3\" fill=\"none\" />\n<path d=\"M75,275 L103,275 L122,256\" stroke=\"darkred\" stroke-width=\"3\" fill=\"none\" />\n<path d=\"M128,256 L147,275 L175,275\" stroke=\"darkred\" stroke-width=\"3\" fill=\"none\" />\n<path d=\"M100,243 L150,243 L150,257 L100,257 Z\" stroke=\"black\" fill=\"black\" stroke-linejoin=\"miter\" />\n<text x=\"125\" y=\"285\" font-size=\"7\" text-anchor=\"middle\"></text>\n<text x=\"125\" y=\"226\" font-size=\"7\" text-anchor=\"middle\"></text>\n<path d=\"M100,243 L150,243 L150,247 L100,247 Z\" stroke=\"black\" fill=\"lightgray\" stroke-linejoin=\"miter\" />\n<path d=\"M143,250 L153,250 L153,260 L143,260 Z\" stroke=\"black\" fill=\"aquamarine\" stroke-linejoin=\"miter\" />\n<text x=\"148\" y=\"257\" font-size=\"6\" text-anchor=\"middle\">H</text>\n<path d=\"M75,175 L175,175\" stroke=\"darkred\" stroke-width=\"3\" fill=\"none\" />\n<path d=\"M25,325 L175,325\" stroke=\"darkred\" stroke-width=\"3\" fill=\"none\" />\n<path d=\"M25,375 L175,375\" stroke=\"darkred\" stroke-width=\"3\" fill=\"none\" />\n<path d=\"M178,175 L222,225\" stroke=\"white\" stroke-width=\"6\" fill=\"none\" />\n<path d=\"M175,175 L178,175 L222,225 L225,225\" stroke=\"darkred\" stroke-width=\"3\" fill=\"none\" />\n<path d=\"M178,225 L222,325\" stroke=\"white\" stroke-width=\"6\" fill=\"none\" />\n<path d=\"M175,225 L178,225 L222,325 L225,325\" stroke=\"darkred\" stroke-width=\"3\" fill=\"none\" />\n<path d=\"M178,275 L222,175\" stroke=\"white\" stroke-width=\"6\" fill=\"none\" />\n<path d=\"M175,275 L178,275 L222,175 L225,175\" stroke=\"darkred\" stroke-width=\"3\" fill=\"none\" />\n<path d=\"M178,325 L222,375\" stroke=\"white\" stroke-width=\"6\" fill=\"none\" />\n<path d=\"M175,325 L178,325 L222,375 L225,375\" stroke=\"darkred\" stroke-width=\"3\" fill=\"none\" />\n<path d=\"M178,375 L222,275\" stroke=\"white\" stroke-width=\"6\" fill=\"none\" />\n<path d=\"M175,375 L178,375 L222,275 L225,275\" stroke=\"darkred\" stroke-width=\"3\" fill=\"none\" />\n<path d=\"M225,175 L253,175 L272,194\" stroke=\"darkred\" stroke-width=\"3\" fill=\"none\" />\n<path d=\"M278,194 L297,175 L325,175\" stroke=\"darkred\" stroke-width=\"3\" fill=\"none\" />\n<path d=\"M225,225 L253,225 L272,206\" stroke=\"darkred\" stroke-width=\"3\" fill=\"none\" />\n<path d=\"M278,206 L297,225 L325,225\" stroke=\"darkred\" stroke-width=\"3\" fill=\"none\" />\n<path d=\"M250,193 L300,193 L300,207 L250,207 Z\" stroke=\"black\" fill=\"black\" stroke-linejoin=\"miter\" />\n<text x=\"275\" y=\"235\" font-size=\"7\" text-anchor=\"middle\"></text>\n<text x=\"275\" y=\"176\" font-size=\"7\" text-anchor=\"middle\"></text>\n<path d=\"M250,193 L300,193 L300,197 L250,197 Z\" stroke=\"black\" fill=\"lightgray\" stroke-linejoin=\"miter\" />\n<path d=\"M293,200 L303,200 L303,210 L293,210 Z\" stroke=\"black\" fill=\"aquamarine\" stroke-linejoin=\"miter\" />\n<text x=\"298\" y=\"207\" font-size=\"6\" text-anchor=\"middle\">H</text>\n<path d=\"M225,275 L325,275\" stroke=\"darkred\" stroke-width=\"3\" fill=\"none\" />\n<path d=\"M328,175 L372,275\" stroke=\"white\" stroke-width=\"6\" fill=\"none\" />\n<path d=\"M325,175 L328,175 L372,275 L375,275\" stroke=\"darkred\" stroke-width=\"3\" fill=\"none\" />\n<path d=\"M328,225 L372,175\" stroke=\"white\" stroke-width=\"6\" fill=\"none\" />\n<path d=\"M325,225 L328,225 L372,175 L375,175\" stroke=\"darkred\" stroke-width=\"3\" fill=\"none\" />\n<path d=\"M328,275 L372,225\" stroke=\"white\" stroke-width=\"6\" fill=\"none\" />\n<path d=\"M325,275 L328,275 L372,225 L375,225\" stroke=\"darkred\" stroke-width=\"3\" fill=\"none\" />\n<path d=\"M75,125 L375,125\" stroke=\"darkred\" stroke-width=\"3\" fill=\"none\" />\n<path d=\"M375,125 L403,125 L422,144\" stroke=\"darkred\" stroke-width=\"3\" fill=\"none\" />\n<path d=\"M428,144 L447,125 L475,125\" stroke=\"darkred\" stroke-width=\"3\" fill=\"none\" />\n<path d=\"M375,175 L403,175 L422,156\" stroke=\"darkred\" stroke-width=\"3\" fill=\"none\" />\n<path d=\"M428,156 L447,175 L475,175\" stroke=\"darkred\" stroke-width=\"3\" fill=\"none\" />\n<path d=\"M400,143 L450,143 L450,157 L400,157 Z\" stroke=\"black\" fill=\"black\" stroke-linejoin=\"miter\" />\n<text x=\"425\" y=\"180\" font-size=\"7\" text-anchor=\"middle\"></text>\n<text x=\"425\" y=\"126\" font-size=\"7\" text-anchor=\"middle\">Θ=2.149475</text>\n<path d=\"M400,143 L450,143 L450,147 L400,147 Z\" stroke=\"black\" fill=\"lightgray\" stroke-linejoin=\"miter\" />\n<path d=\"M443,150 L453,150 L453,160 L443,160 Z\" stroke=\"black\" fill=\"aquamarine\" stroke-linejoin=\"miter\" />\n<text x=\"448\" y=\"157\" font-size=\"6\" text-anchor=\"middle\">H</text>\n<path d=\"M375,225 L403,225 L422,244\" stroke=\"darkred\" stroke-width=\"3\" fill=\"none\" />\n<path d=\"M428,244 L447,225 L475,225\" stroke=\"darkred\" stroke-width=\"3\" fill=\"none\" />\n<path d=\"M375,275 L403,275 L422,256\" stroke=\"darkred\" stroke-width=\"3\" fill=\"none\" />\n<path d=\"M428,256 L447,275 L475,275\" stroke=\"darkred\" stroke-width=\"3\" fill=\"none\" />\n<path d=\"M400,243 L450,243 L450,257 L400,257 Z\" stroke=\"black\" fill=\"black\" stroke-linejoin=\"miter\" />\n<text x=\"425\" y=\"280\" font-size=\"7\" text-anchor=\"middle\"></text>\n<text x=\"425\" y=\"226\" font-size=\"7\" text-anchor=\"middle\">Θ=2.149475</text>\n<path d=\"M400,243 L450,243 L450,247 L400,247 Z\" stroke=\"black\" fill=\"lightgray\" stroke-linejoin=\"miter\" />\n<path d=\"M443,250 L453,250 L453,260 L443,260 Z\" stroke=\"black\" fill=\"aquamarine\" stroke-linejoin=\"miter\" />\n<text x=\"448\" y=\"257\" font-size=\"6\" text-anchor=\"middle\">H</text>\n<path d=\"M478,175 L522,225\" stroke=\"white\" stroke-width=\"6\" fill=\"none\" />\n<path d=\"M475,175 L478,175 L522,225 L525,225\" stroke=\"darkred\" stroke-width=\"3\" fill=\"none\" />\n<path d=\"M478,225 L522,275\" stroke=\"white\" stroke-width=\"6\" fill=\"none\" />\n<path d=\"M475,225 L478,225 L522,275 L525,275\" stroke=\"darkred\" stroke-width=\"3\" fill=\"none\" />\n<path d=\"M478,275 L522,175\" stroke=\"white\" stroke-width=\"6\" fill=\"none\" />\n<path d=\"M475,275 L478,275 L522,175 L525,175\" stroke=\"darkred\" stroke-width=\"3\" fill=\"none\" />\n<path d=\"M525,175 L553,175 L572,194\" stroke=\"darkred\" stroke-width=\"3\" fill=\"none\" />\n<path d=\"M578,194 L597,175 L625,175\" stroke=\"darkred\" stroke-width=\"3\" fill=\"none\" />\n<path d=\"M525,225 L553,225 L572,206\" stroke=\"darkred\" stroke-width=\"3\" fill=\"none\" />\n<path d=\"M578,206 L597,225 L625,225\" stroke=\"darkred\" stroke-width=\"3\" fill=\"none\" />\n<path d=\"M550,193 L600,193 L600,207 L550,207 Z\" stroke=\"black\" fill=\"black\" stroke-linejoin=\"miter\" />\n<text x=\"575\" y=\"235\" font-size=\"7\" text-anchor=\"middle\"></text>\n<text x=\"575\" y=\"176\" font-size=\"7\" text-anchor=\"middle\"></text>\n<path d=\"M550,193 L600,193 L600,197 L550,197 Z\" stroke=\"black\" fill=\"lightgray\" stroke-linejoin=\"miter\" />\n<path d=\"M593,200 L603,200 L603,210 L593,210 Z\" stroke=\"black\" fill=\"aquamarine\" stroke-linejoin=\"miter\" />\n<text x=\"598\" y=\"207\" font-size=\"6\" text-anchor=\"middle\">H</text>\n<path d=\"M75,75 L625,75\" stroke=\"darkred\" stroke-width=\"3\" fill=\"none\" />\n<path d=\"M475,125 L625,125\" stroke=\"darkred\" stroke-width=\"3\" fill=\"none\" />\n<path d=\"M525,275 L625,275\" stroke=\"darkred\" stroke-width=\"3\" fill=\"none\" />\n<path d=\"M225,325 L625,325\" stroke=\"darkred\" stroke-width=\"3\" fill=\"none\" />\n<path d=\"M225,375 L625,375\" stroke=\"darkred\" stroke-width=\"3\" fill=\"none\" />\n<path d=\"M628,75 L672,175\" stroke=\"white\" stroke-width=\"6\" fill=\"none\" />\n<path d=\"M625,75 L628,75 L672,175 L675,175\" stroke=\"darkred\" stroke-width=\"3\" fill=\"none\" />\n<path d=\"M628,125 L672,75\" stroke=\"white\" stroke-width=\"6\" fill=\"none\" />\n<path d=\"M625,125 L628,125 L672,75 L675,75\" stroke=\"darkred\" stroke-width=\"3\" fill=\"none\" />\n<path d=\"M628,175 L672,225\" stroke=\"white\" stroke-width=\"6\" fill=\"none\" />\n<path d=\"M625,175 L628,175 L672,225 L675,225\" stroke=\"darkred\" stroke-width=\"3\" fill=\"none\" />\n<path d=\"M628,225 L672,125\" stroke=\"white\" stroke-width=\"6\" fill=\"none\" />\n<path d=\"M625,225 L628,225 L672,125 L675,125\" stroke=\"darkred\" stroke-width=\"3\" fill=\"none\" />\n<path d=\"M628,275 L672,375\" stroke=\"white\" stroke-width=\"6\" fill=\"none\" />\n<path d=\"M625,275 L628,275 L672,375 L675,375\" stroke=\"darkred\" stroke-width=\"3\" fill=\"none\" />\n<path d=\"M628,325 L672,325\" stroke=\"white\" stroke-width=\"6\" fill=\"none\" />\n<path d=\"M625,325 L628,325 L672,325 L675,325\" stroke=\"darkred\" stroke-width=\"3\" fill=\"none\" />\n<path d=\"M628,375 L672,275\" stroke=\"white\" stroke-width=\"6\" fill=\"none\" />\n<path d=\"M625,375 L628,375 L672,275 L675,275\" stroke=\"darkred\" stroke-width=\"3\" fill=\"none\" />\n<path d=\"M675,125 L703,125 L722,144\" stroke=\"darkred\" stroke-width=\"3\" fill=\"none\" />\n<path d=\"M728,144 L747,125 L775,125\" stroke=\"darkred\" stroke-width=\"3\" fill=\"none\" />\n<path d=\"M675,175 L703,175 L722,156\" stroke=\"darkred\" stroke-width=\"3\" fill=\"none\" />\n<path d=\"M728,156 L747,175 L775,175\" stroke=\"darkred\" stroke-width=\"3\" fill=\"none\" />\n<path d=\"M700,143 L750,143 L750,157 L700,157 Z\" stroke=\"black\" fill=\"black\" stroke-linejoin=\"miter\" />\n<text x=\"725\" y=\"180\" font-size=\"7\" text-anchor=\"middle\"></text>\n<text x=\"725\" y=\"126\" font-size=\"7\" text-anchor=\"middle\">Θ=1.030117</text>\n<path d=\"M700,143 L750,143 L750,147 L700,147 Z\" stroke=\"black\" fill=\"lightgray\" stroke-linejoin=\"miter\" />\n<path d=\"M743,150 L753,150 L753,160 L743,160 Z\" stroke=\"black\" fill=\"aquamarine\" stroke-linejoin=\"miter\" />\n<text x=\"748\" y=\"157\" font-size=\"6\" text-anchor=\"middle\">H</text>\n<path d=\"M778,125 L822,175\" stroke=\"white\" stroke-width=\"6\" fill=\"none\" />\n<path d=\"M775,125 L778,125 L822,175 L825,175\" stroke=\"darkred\" stroke-width=\"3\" fill=\"none\" />\n<path d=\"M778,175 L822,125\" stroke=\"white\" stroke-width=\"6\" fill=\"none\" />\n<path d=\"M775,175 L778,175 L822,125 L825,125\" stroke=\"darkred\" stroke-width=\"3\" fill=\"none\" />\n<path d=\"M675,225 L703,225 L722,244\" stroke=\"darkred\" stroke-width=\"3\" fill=\"none\" />\n<path d=\"M728,244 L747,225 L775,225\" stroke=\"darkred\" stroke-width=\"3\" fill=\"none\" />\n<path d=\"M675,275 L703,275 L722,256\" stroke=\"darkred\" stroke-width=\"3\" fill=\"none\" />\n<path d=\"M728,256 L747,275 L775,275\" stroke=\"darkred\" stroke-width=\"3\" fill=\"none\" />\n<path d=\"M700,243 L750,243 L750,257 L700,257 Z\" stroke=\"black\" fill=\"black\" stroke-linejoin=\"miter\" />\n<text x=\"725\" y=\"280\" font-size=\"7\" text-anchor=\"middle\"></text>\n<text x=\"725\" y=\"226\" font-size=\"7\" text-anchor=\"middle\">Θ=1.030117</text>\n<path d=\"M700,243 L750,243 L750,247 L700,247 Z\" stroke=\"black\" fill=\"lightgray\" stroke-linejoin=\"miter\" />\n<path d=\"M743,250 L753,250 L753,260 L743,260 Z\" stroke=\"black\" fill=\"aquamarine\" stroke-linejoin=\"miter\" />\n<text x=\"748\" y=\"257\" font-size=\"6\" text-anchor=\"middle\">H</text>\n<path d=\"M675,325 L775,325\" stroke=\"darkred\" stroke-width=\"3\" fill=\"none\" />\n<path d=\"M778,225 L822,275\" stroke=\"white\" stroke-width=\"6\" fill=\"none\" />\n<path d=\"M775,225 L778,225 L822,275 L825,275\" stroke=\"darkred\" stroke-width=\"3\" fill=\"none\" />\n<path d=\"M778,275 L822,325\" stroke=\"white\" stroke-width=\"6\" fill=\"none\" />\n<path d=\"M775,275 L778,275 L822,325 L825,325\" stroke=\"darkred\" stroke-width=\"3\" fill=\"none\" />\n<path d=\"M778,325 L822,225\" stroke=\"white\" stroke-width=\"6\" fill=\"none\" />\n<path d=\"M775,325 L778,325 L822,225 L825,225\" stroke=\"darkred\" stroke-width=\"3\" fill=\"none\" />\n<path d=\"M825,225 L853,225 L872,244\" stroke=\"darkred\" stroke-width=\"3\" fill=\"none\" />\n<path d=\"M878,244 L897,225 L925,225\" stroke=\"darkred\" stroke-width=\"3\" fill=\"none\" />\n<path d=\"M825,275 L853,275 L872,256\" stroke=\"darkred\" stroke-width=\"3\" fill=\"none\" />\n<path d=\"M878,256 L897,275 L925,275\" stroke=\"darkred\" stroke-width=\"3\" fill=\"none\" />\n<path d=\"M850,243 L900,243 L900,257 L850,257 Z\" stroke=\"black\" fill=\"black\" stroke-linejoin=\"miter\" />\n<text x=\"875\" y=\"285\" font-size=\"7\" text-anchor=\"middle\"></text>\n<text x=\"875\" y=\"226\" font-size=\"7\" text-anchor=\"middle\"></text>\n<path d=\"M850,243 L900,243 L900,247 L850,247 Z\" stroke=\"black\" fill=\"lightgray\" stroke-linejoin=\"miter\" />\n<path d=\"M893,250 L903,250 L903,260 L893,260 Z\" stroke=\"black\" fill=\"aquamarine\" stroke-linejoin=\"miter\" />\n<text x=\"898\" y=\"257\" font-size=\"6\" text-anchor=\"middle\">H</text>\n<path d=\"M675,75 L925,75\" stroke=\"darkred\" stroke-width=\"3\" fill=\"none\" />\n<path d=\"M825,125 L925,125\" stroke=\"darkred\" stroke-width=\"3\" fill=\"none\" />\n<path d=\"M825,175 L925,175\" stroke=\"darkred\" stroke-width=\"3\" fill=\"none\" />\n<path d=\"M928,75 L972,275\" stroke=\"white\" stroke-width=\"6\" fill=\"none\" />\n<path d=\"M925,75 L928,75 L972,275 L975,275\" stroke=\"darkred\" stroke-width=\"3\" fill=\"none\" />\n<path d=\"M928,125 L972,225\" stroke=\"white\" stroke-width=\"6\" fill=\"none\" />\n<path d=\"M925,125 L928,125 L972,225 L975,225\" stroke=\"darkred\" stroke-width=\"3\" fill=\"none\" />\n<path d=\"M928,175 L972,75\" stroke=\"white\" stroke-width=\"6\" fill=\"none\" />\n<path d=\"M925,175 L928,175 L972,75 L975,75\" stroke=\"darkred\" stroke-width=\"3\" fill=\"none\" />\n<path d=\"M928,225 L972,175\" stroke=\"white\" stroke-width=\"6\" fill=\"none\" />\n<path d=\"M925,225 L928,225 L972,175 L975,175\" stroke=\"darkred\" stroke-width=\"3\" fill=\"none\" />\n<path d=\"M928,275 L972,125\" stroke=\"white\" stroke-width=\"6\" fill=\"none\" />\n<path d=\"M925,275 L928,275 L972,125 L975,125\" stroke=\"darkred\" stroke-width=\"3\" fill=\"none\" />\n<path d=\"M25,25 L975,25\" stroke=\"darkred\" stroke-width=\"3\" fill=\"none\" />\n<path d=\"M825,325 L975,325\" stroke=\"darkred\" stroke-width=\"3\" fill=\"none\" />\n<path d=\"M675,375 L975,375\" stroke=\"darkred\" stroke-width=\"3\" fill=\"none\" />\n<path d=\"M975,25 L990,25\" stroke-width=\"3\" stroke=\"darkred\" stroke-linejoin=\"miter\" fill=\"none\" />\n<path d=\"M975,75 L990,75\" stroke-width=\"3\" stroke=\"darkred\" stroke-linejoin=\"miter\" fill=\"none\" />\n<path d=\"M975,125 L990,125\" stroke-width=\"3\" stroke=\"darkred\" stroke-linejoin=\"miter\" fill=\"none\" />\n<path d=\"M975,175 L990,175\" stroke-width=\"3\" stroke=\"darkred\" stroke-linejoin=\"miter\" fill=\"none\" />\n<path d=\"M975,225 L990,225\" stroke-width=\"3\" stroke=\"darkred\" stroke-linejoin=\"miter\" fill=\"none\" />\n<path d=\"M975,275 L990,275\" stroke-width=\"3\" stroke=\"darkred\" stroke-linejoin=\"miter\" fill=\"none\" />\n<path d=\"M975,325 L990,325\" stroke-width=\"3\" stroke=\"darkred\" stroke-linejoin=\"miter\" fill=\"none\" />\n<path d=\"M975,375 L990,375\" stroke-width=\"3\" stroke=\"darkred\" stroke-linejoin=\"miter\" fill=\"none\" />\n<text x=\"1000\" y=\"28\" font-size=\"9\" text-anchor=\"end\">0</text>\n<text x=\"1000\" y=\"78\" font-size=\"9\" text-anchor=\"end\">1</text>\n<text x=\"1000\" y=\"128\" font-size=\"9\" text-anchor=\"end\">2</text>\n<text x=\"1000\" y=\"178\" font-size=\"9\" text-anchor=\"end\">3</text>\n<text x=\"1000\" y=\"228\" font-size=\"9\" text-anchor=\"end\">4</text>\n<text x=\"1000\" y=\"278\" font-size=\"9\" text-anchor=\"end\">5</text>\n<text x=\"1000\" y=\"328\" font-size=\"9\" text-anchor=\"end\">6</text>\n<text x=\"1000\" y=\"378\" font-size=\"9\" text-anchor=\"end\">7</text>\n<text x=\"0\" y=\"28\" font-size=\"9\" text-anchor=\"start\">0</text>\n<text x=\"0\" y=\"78\" font-size=\"9\" text-anchor=\"start\">1</text>\n<text x=\"0\" y=\"128\" font-size=\"9\" text-anchor=\"start\">2</text>\n<text x=\"0\" y=\"178\" font-size=\"9\" text-anchor=\"start\">3</text>\n<text x=\"0\" y=\"228\" font-size=\"9\" text-anchor=\"start\">4</text>\n<text x=\"0\" y=\"278\" font-size=\"9\" text-anchor=\"start\">5</text>\n<text x=\"0\" y=\"328\" font-size=\"9\" text-anchor=\"start\">6</text>\n<text x=\"0\" y=\"378\" font-size=\"9\" text-anchor=\"start\">7</text>\n</svg>"
          },
          "metadata": {},
          "execution_count": 20
        }
      ],
      "source": [
        "pdisplay(cnot)"
      ]
    },
    {
      "cell_type": "markdown",
      "id": "d25c2cc5-670f-4a75-bb64-ba5b71bc1b7f",
      "metadata": {
        "id": "d25c2cc5-670f-4a75-bb64-ba5b71bc1b7f"
      },
      "source": [
        "## Un dernier point pour la route\n",
        "\n",
        "Comme vous l'avez vu, la porte *CNOT* définie au-dessus **comporte 8 rails au lieu des 4 attendus**. En fait, c'est ici que se cache la particularité technique liée à la photonique. Pour que notre encodage fonctionne, il faut absolument que **la somme des photons dans une paire de rail soit égale à 1**.\n",
        "\n",
        "Par exemple pour l'état $|01\\rangle$, on a $1$ photon dans le premier rail, $0$ dans le second et dans le troisième, et $1$ dans le quatrième. Si l'on se retrouve avec $1$ photon dans le second rail et $1$ photon dans le troisième rail à la fin, l'on sait que l'on a l'état $|10\\rangle$. Mais que se passe-t-il si l'on obtient $2$ photons dans le premier rail et $0$ dans les autres ? Et bien cela ne correspond à aucun état logique. En fait, cela à du sens physiquement parlant, mais pas informatiquement parlant, on arrive plus à mettre des qbits sur notre état photonique.\n",
        "\n",
        "Pour pallier ce problème, on rajoute des états de contrôle, qui vont annuler certains résultats. Dans notre cas, tout sera fait automatiquement grâce à des *heralded gates* et des *ancilla states*.\n",
        "\n",
        "### Pour résumer :\n",
        "- On laisse les *heralded gates* et les *ancilla states* s'occuper des problèmes.\n",
        "- Si on se retrouve avec un nombre incohérent de photons à la fin de notre expérience, cela ne sert à rien de chercher compliqué, l'expérience est invalide, il faut la refaire.\n",
        "\n",
        "Afin de gérer les *heralded gates* et les *ancilla states*, nous allons travailler directement avec les processeurs.\n",
        "\n",
        "*Plus d'information ici : https://perceval.quandela.net/docs/notebooks/Tutorial.html#3.-Two-qubit-gates*"
      ]
    },
    {
      "cell_type": "code",
      "execution_count": null,
      "id": "e671512d-b97a-4767-90b5-51cc1192dda3",
      "metadata": {
        "colab": {
          "base_uri": "https://localhost:8080/",
          "height": 552
        },
        "id": "e671512d-b97a-4767-90b5-51cc1192dda3",
        "outputId": "e1193407-9bf8-43a2-fc4e-cf19393d7502"
      },
      "outputs": [
        {
          "output_type": "execute_result",
          "data": {
            "text/plain": [
              "<drawsvg.drawing.Drawing at 0x7fa8613f0820>"
            ],
            "image/svg+xml": "<?xml version=\"1.0\" encoding=\"UTF-8\"?>\n<svg xmlns=\"http://www.w3.org/2000/svg\" xmlns:xlink=\"http://www.w3.org/1999/xlink\"\n     width=\"1355.0\" height=\"531.25\" viewBox=\"-48.0 0 1084.0 425.0\">\n<defs>\n</defs>\n<path d=\"M10,25 L25,25\" stroke-width=\"3\" stroke=\"darkred\" stroke-linejoin=\"miter\" fill=\"none\" />\n<path d=\"M10,75 L25,75\" stroke-width=\"3\" stroke=\"darkred\" stroke-linejoin=\"miter\" fill=\"none\" />\n<path d=\"M10,125 L25,125\" stroke-width=\"3\" stroke=\"darkred\" stroke-linejoin=\"miter\" fill=\"none\" />\n<path d=\"M10,175 L25,175\" stroke-width=\"3\" stroke=\"darkred\" stroke-linejoin=\"miter\" fill=\"none\" />\n<path d=\"M27,2 L973,2 L973,398 L27,398 Z\" stroke=\"black\" fill=\"lightblue\" stroke-dasharray=\"1,2\" stroke-linejoin=\"miter\" />\n<text x=\"29\" y=\"405\" font-size=\"8\" text-anchor=\"start\">HERALDED CNOT</text>\n<path d=\"M28,75 L72,175\" stroke=\"white\" stroke-width=\"6\" fill=\"none\" />\n<path d=\"M25,75 L28,75 L72,175 L75,175\" stroke=\"darkred\" stroke-width=\"3\" fill=\"none\" />\n<path d=\"M28,125 L72,275\" stroke=\"white\" stroke-width=\"6\" fill=\"none\" />\n<path d=\"M25,125 L28,125 L72,275 L75,275\" stroke=\"darkred\" stroke-width=\"3\" fill=\"none\" />\n<path d=\"M28,175 L72,225\" stroke=\"white\" stroke-width=\"6\" fill=\"none\" />\n<path d=\"M25,175 L28,175 L72,225 L75,225\" stroke=\"darkred\" stroke-width=\"3\" fill=\"none\" />\n<path d=\"M75,225 L103,225 L122,244\" stroke=\"darkred\" stroke-width=\"3\" fill=\"none\" />\n<path d=\"M128,244 L147,225 L175,225\" stroke=\"darkred\" stroke-width=\"3\" fill=\"none\" />\n<path d=\"M75,275 L103,275 L122,256\" stroke=\"darkred\" stroke-width=\"3\" fill=\"none\" />\n<path d=\"M128,256 L147,275 L175,275\" stroke=\"darkred\" stroke-width=\"3\" fill=\"none\" />\n<path d=\"M100,243 L150,243 L150,257 L100,257 Z\" stroke=\"black\" fill=\"black\" stroke-linejoin=\"miter\" />\n<text x=\"125\" y=\"285\" font-size=\"7\" text-anchor=\"middle\"></text>\n<text x=\"125\" y=\"226\" font-size=\"7\" text-anchor=\"middle\"></text>\n<path d=\"M100,243 L150,243 L150,247 L100,247 Z\" stroke=\"black\" fill=\"lightgray\" stroke-linejoin=\"miter\" />\n<path d=\"M143,250 L153,250 L153,260 L143,260 Z\" stroke=\"black\" fill=\"aquamarine\" stroke-linejoin=\"miter\" />\n<text x=\"148\" y=\"257\" font-size=\"6\" text-anchor=\"middle\">H</text>\n<path d=\"M75,175 L175,175\" stroke=\"darkred\" stroke-width=\"3\" fill=\"none\" />\n<path d=\"M178,175 L222,225\" stroke=\"white\" stroke-width=\"6\" fill=\"none\" />\n<path d=\"M175,175 L178,175 L222,225 L225,225\" stroke=\"darkred\" stroke-width=\"3\" fill=\"none\" />\n<path d=\"M178,225 L222,325\" stroke=\"white\" stroke-width=\"6\" fill=\"none\" />\n<path d=\"M175,225 L178,225 L222,325 L225,325\" stroke=\"darkred\" stroke-width=\"3\" fill=\"none\" />\n<path d=\"M178,275 L222,175\" stroke=\"white\" stroke-width=\"6\" fill=\"none\" />\n<path d=\"M175,275 L178,275 L222,175 L225,175\" stroke=\"darkred\" stroke-width=\"3\" fill=\"none\" />\n<path d=\"M225,175 L253,175 L272,194\" stroke=\"darkred\" stroke-width=\"3\" fill=\"none\" />\n<path d=\"M278,194 L297,175 L325,175\" stroke=\"darkred\" stroke-width=\"3\" fill=\"none\" />\n<path d=\"M225,225 L253,225 L272,206\" stroke=\"darkred\" stroke-width=\"3\" fill=\"none\" />\n<path d=\"M278,206 L297,225 L325,225\" stroke=\"darkred\" stroke-width=\"3\" fill=\"none\" />\n<path d=\"M250,193 L300,193 L300,207 L250,207 Z\" stroke=\"black\" fill=\"black\" stroke-linejoin=\"miter\" />\n<text x=\"275\" y=\"235\" font-size=\"7\" text-anchor=\"middle\"></text>\n<text x=\"275\" y=\"176\" font-size=\"7\" text-anchor=\"middle\"></text>\n<path d=\"M250,193 L300,193 L300,197 L250,197 Z\" stroke=\"black\" fill=\"lightgray\" stroke-linejoin=\"miter\" />\n<path d=\"M293,200 L303,200 L303,210 L293,210 Z\" stroke=\"black\" fill=\"aquamarine\" stroke-linejoin=\"miter\" />\n<text x=\"298\" y=\"207\" font-size=\"6\" text-anchor=\"middle\">H</text>\n<path d=\"M328,175 L372,275\" stroke=\"white\" stroke-width=\"6\" fill=\"none\" />\n<path d=\"M325,175 L328,175 L372,275 L375,275\" stroke=\"darkred\" stroke-width=\"3\" fill=\"none\" />\n<path d=\"M328,225 L372,175\" stroke=\"white\" stroke-width=\"6\" fill=\"none\" />\n<path d=\"M325,225 L328,225 L372,175 L375,175\" stroke=\"darkred\" stroke-width=\"3\" fill=\"none\" />\n<path d=\"M375,125 L403,125 L422,144\" stroke=\"darkred\" stroke-width=\"3\" fill=\"none\" />\n<path d=\"M428,144 L447,125 L475,125\" stroke=\"darkred\" stroke-width=\"3\" fill=\"none\" />\n<path d=\"M375,175 L403,175 L422,156\" stroke=\"darkred\" stroke-width=\"3\" fill=\"none\" />\n<path d=\"M428,156 L447,175 L475,175\" stroke=\"darkred\" stroke-width=\"3\" fill=\"none\" />\n<path d=\"M400,143 L450,143 L450,157 L400,157 Z\" stroke=\"black\" fill=\"black\" stroke-linejoin=\"miter\" />\n<text x=\"425\" y=\"180\" font-size=\"7\" text-anchor=\"middle\"></text>\n<text x=\"425\" y=\"126\" font-size=\"7\" text-anchor=\"middle\">Θ=2.149475</text>\n<path d=\"M400,143 L450,143 L450,147 L400,147 Z\" stroke=\"black\" fill=\"lightgray\" stroke-linejoin=\"miter\" />\n<path d=\"M443,150 L453,150 L453,160 L443,160 Z\" stroke=\"black\" fill=\"aquamarine\" stroke-linejoin=\"miter\" />\n<text x=\"448\" y=\"157\" font-size=\"6\" text-anchor=\"middle\">H</text>\n<path d=\"M375,225 L403,225 L422,244\" stroke=\"darkred\" stroke-width=\"3\" fill=\"none\" />\n<path d=\"M428,244 L447,225 L475,225\" stroke=\"darkred\" stroke-width=\"3\" fill=\"none\" />\n<path d=\"M375,275 L403,275 L422,256\" stroke=\"darkred\" stroke-width=\"3\" fill=\"none\" />\n<path d=\"M428,256 L447,275 L475,275\" stroke=\"darkred\" stroke-width=\"3\" fill=\"none\" />\n<path d=\"M400,243 L450,243 L450,257 L400,257 Z\" stroke=\"black\" fill=\"black\" stroke-linejoin=\"miter\" />\n<text x=\"425\" y=\"280\" font-size=\"7\" text-anchor=\"middle\"></text>\n<text x=\"425\" y=\"226\" font-size=\"7\" text-anchor=\"middle\">Θ=2.149475</text>\n<path d=\"M400,243 L450,243 L450,247 L400,247 Z\" stroke=\"black\" fill=\"lightgray\" stroke-linejoin=\"miter\" />\n<path d=\"M443,250 L453,250 L453,260 L443,260 Z\" stroke=\"black\" fill=\"aquamarine\" stroke-linejoin=\"miter\" />\n<text x=\"448\" y=\"257\" font-size=\"6\" text-anchor=\"middle\">H</text>\n<path d=\"M478,175 L522,225\" stroke=\"white\" stroke-width=\"6\" fill=\"none\" />\n<path d=\"M475,175 L478,175 L522,225 L525,225\" stroke=\"darkred\" stroke-width=\"3\" fill=\"none\" />\n<path d=\"M478,275 L522,175\" stroke=\"white\" stroke-width=\"6\" fill=\"none\" />\n<path d=\"M475,275 L478,275 L522,175 L525,175\" stroke=\"darkred\" stroke-width=\"3\" fill=\"none\" />\n<path d=\"M525,175 L553,175 L572,194\" stroke=\"darkred\" stroke-width=\"3\" fill=\"none\" />\n<path d=\"M578,194 L597,175 L625,175\" stroke=\"darkred\" stroke-width=\"3\" fill=\"none\" />\n<path d=\"M525,225 L553,225 L572,206\" stroke=\"darkred\" stroke-width=\"3\" fill=\"none\" />\n<path d=\"M578,206 L597,225 L625,225\" stroke=\"darkred\" stroke-width=\"3\" fill=\"none\" />\n<path d=\"M550,193 L600,193 L600,207 L550,207 Z\" stroke=\"black\" fill=\"black\" stroke-linejoin=\"miter\" />\n<text x=\"575\" y=\"235\" font-size=\"7\" text-anchor=\"middle\"></text>\n<text x=\"575\" y=\"176\" font-size=\"7\" text-anchor=\"middle\"></text>\n<path d=\"M550,193 L600,193 L600,197 L550,197 Z\" stroke=\"black\" fill=\"lightgray\" stroke-linejoin=\"miter\" />\n<path d=\"M593,200 L603,200 L603,210 L593,210 Z\" stroke=\"black\" fill=\"aquamarine\" stroke-linejoin=\"miter\" />\n<text x=\"598\" y=\"207\" font-size=\"6\" text-anchor=\"middle\">H</text>\n<path d=\"M225,325 L625,325\" stroke=\"darkred\" stroke-width=\"3\" fill=\"none\" />\n<path d=\"M628,175 L672,225\" stroke=\"white\" stroke-width=\"6\" fill=\"none\" />\n<path d=\"M625,175 L628,175 L672,225 L675,225\" stroke=\"darkred\" stroke-width=\"3\" fill=\"none\" />\n<path d=\"M628,225 L672,125\" stroke=\"white\" stroke-width=\"6\" fill=\"none\" />\n<path d=\"M625,225 L628,225 L672,125 L675,125\" stroke=\"darkred\" stroke-width=\"3\" fill=\"none\" />\n<path d=\"M628,325 L672,325\" stroke=\"white\" stroke-width=\"6\" fill=\"none\" />\n<path d=\"M625,325 L628,325 L672,325 L675,325\" stroke=\"darkred\" stroke-width=\"3\" fill=\"none\" />\n<path d=\"M675,125 L703,125 L722,144\" stroke=\"darkred\" stroke-width=\"3\" fill=\"none\" />\n<path d=\"M728,144 L747,125 L775,125\" stroke=\"darkred\" stroke-width=\"3\" fill=\"none\" />\n<path d=\"M675,175 L703,175 L722,156\" stroke=\"darkred\" stroke-width=\"3\" fill=\"none\" />\n<path d=\"M728,156 L747,175 L775,175\" stroke=\"darkred\" stroke-width=\"3\" fill=\"none\" />\n<path d=\"M700,143 L750,143 L750,157 L700,157 Z\" stroke=\"black\" fill=\"black\" stroke-linejoin=\"miter\" />\n<text x=\"725\" y=\"180\" font-size=\"7\" text-anchor=\"middle\"></text>\n<text x=\"725\" y=\"126\" font-size=\"7\" text-anchor=\"middle\">Θ=1.030117</text>\n<path d=\"M700,143 L750,143 L750,147 L700,147 Z\" stroke=\"black\" fill=\"lightgray\" stroke-linejoin=\"miter\" />\n<path d=\"M743,150 L753,150 L753,160 L743,160 Z\" stroke=\"black\" fill=\"aquamarine\" stroke-linejoin=\"miter\" />\n<text x=\"748\" y=\"157\" font-size=\"6\" text-anchor=\"middle\">H</text>\n<path d=\"M778,125 L822,175\" stroke=\"white\" stroke-width=\"6\" fill=\"none\" />\n<path d=\"M775,125 L778,125 L822,175 L825,175\" stroke=\"darkred\" stroke-width=\"3\" fill=\"none\" />\n<path d=\"M675,225 L703,225 L722,244\" stroke=\"darkred\" stroke-width=\"3\" fill=\"none\" />\n<path d=\"M728,244 L747,225 L775,225\" stroke=\"darkred\" stroke-width=\"3\" fill=\"none\" />\n<path d=\"M675,275 L703,275 L722,256\" stroke=\"darkred\" stroke-width=\"3\" fill=\"none\" />\n<path d=\"M728,256 L747,275 L775,275\" stroke=\"darkred\" stroke-width=\"3\" fill=\"none\" />\n<path d=\"M700,243 L750,243 L750,257 L700,257 Z\" stroke=\"black\" fill=\"black\" stroke-linejoin=\"miter\" />\n<text x=\"725\" y=\"280\" font-size=\"7\" text-anchor=\"middle\"></text>\n<text x=\"725\" y=\"226\" font-size=\"7\" text-anchor=\"middle\">Θ=1.030117</text>\n<path d=\"M700,243 L750,243 L750,247 L700,247 Z\" stroke=\"black\" fill=\"lightgray\" stroke-linejoin=\"miter\" />\n<path d=\"M743,250 L753,250 L753,260 L743,260 Z\" stroke=\"black\" fill=\"aquamarine\" stroke-linejoin=\"miter\" />\n<text x=\"748\" y=\"257\" font-size=\"6\" text-anchor=\"middle\">H</text>\n<path d=\"M675,325 L775,325\" stroke=\"darkred\" stroke-width=\"3\" fill=\"none\" />\n<path d=\"M778,225 L822,275\" stroke=\"white\" stroke-width=\"6\" fill=\"none\" />\n<path d=\"M775,225 L778,225 L822,275 L825,275\" stroke=\"darkred\" stroke-width=\"3\" fill=\"none\" />\n<path d=\"M778,325 L822,225\" stroke=\"white\" stroke-width=\"6\" fill=\"none\" />\n<path d=\"M775,325 L778,325 L822,225 L825,225\" stroke=\"darkred\" stroke-width=\"3\" fill=\"none\" />\n<path d=\"M825,225 L853,225 L872,244\" stroke=\"darkred\" stroke-width=\"3\" fill=\"none\" />\n<path d=\"M878,244 L897,225 L925,225\" stroke=\"darkred\" stroke-width=\"3\" fill=\"none\" />\n<path d=\"M825,275 L853,275 L872,256\" stroke=\"darkred\" stroke-width=\"3\" fill=\"none\" />\n<path d=\"M878,256 L897,275 L925,275\" stroke=\"darkred\" stroke-width=\"3\" fill=\"none\" />\n<path d=\"M850,243 L900,243 L900,257 L850,257 Z\" stroke=\"black\" fill=\"black\" stroke-linejoin=\"miter\" />\n<text x=\"875\" y=\"285\" font-size=\"7\" text-anchor=\"middle\"></text>\n<text x=\"875\" y=\"226\" font-size=\"7\" text-anchor=\"middle\"></text>\n<path d=\"M850,243 L900,243 L900,247 L850,247 Z\" stroke=\"black\" fill=\"lightgray\" stroke-linejoin=\"miter\" />\n<path d=\"M893,250 L903,250 L903,260 L893,260 Z\" stroke=\"black\" fill=\"aquamarine\" stroke-linejoin=\"miter\" />\n<text x=\"898\" y=\"257\" font-size=\"6\" text-anchor=\"middle\">H</text>\n<path d=\"M825,175 L925,175\" stroke=\"darkred\" stroke-width=\"3\" fill=\"none\" />\n<path d=\"M928,175 L972,75\" stroke=\"white\" stroke-width=\"6\" fill=\"none\" />\n<path d=\"M925,175 L928,175 L972,75 L975,75\" stroke=\"darkred\" stroke-width=\"3\" fill=\"none\" />\n<path d=\"M928,225 L972,175\" stroke=\"white\" stroke-width=\"6\" fill=\"none\" />\n<path d=\"M925,225 L928,225 L972,175 L975,175\" stroke=\"darkred\" stroke-width=\"3\" fill=\"none\" />\n<path d=\"M928,275 L972,125\" stroke=\"white\" stroke-width=\"6\" fill=\"none\" />\n<path d=\"M925,275 L928,275 L972,125 L975,125\" stroke=\"darkred\" stroke-width=\"3\" fill=\"none\" />\n<path d=\"M25,25 L975,25\" stroke=\"darkred\" stroke-width=\"3\" fill=\"none\" />\n<path d=\"M975,25 L990,25\" stroke-width=\"3\" stroke=\"darkred\" stroke-linejoin=\"miter\" fill=\"none\" />\n<path d=\"M975,75 L990,75\" stroke-width=\"3\" stroke=\"darkred\" stroke-linejoin=\"miter\" fill=\"none\" />\n<path d=\"M975,125 L990,125\" stroke-width=\"3\" stroke=\"darkred\" stroke-linejoin=\"miter\" fill=\"none\" />\n<path d=\"M975,175 L990,175\" stroke-width=\"3\" stroke=\"darkred\" stroke-linejoin=\"miter\" fill=\"none\" />\n<path d=\"M657,175 C657,175,657,165,667,165 L675,165 L675,185 L667,185 C657,185,657,175,657,175 L657,175\" stroke-width=\"1\" stroke=\"black\" stroke-linejoin=\"miter\" fill=\"white\" />\n<text x=\"663\" y=\"191\" font-size=\"6\" text-anchor=\"middle\" font-style=\"italic\">[herald0]</text>\n<text x=\"667\" y=\"178\" font-size=\"7\" text-anchor=\"middle\">0</text>\n<path d=\"M357,125 C357,125,357,115,367,115 L375,115 L375,135 L367,135 C357,135,357,125,357,125 L357,125\" stroke-width=\"1\" stroke=\"black\" stroke-linejoin=\"miter\" fill=\"white\" />\n<text x=\"363\" y=\"141\" font-size=\"6\" text-anchor=\"middle\" font-style=\"italic\">[herald1]</text>\n<text x=\"367\" y=\"128\" font-size=\"7\" text-anchor=\"middle\">1</text>\n<path d=\"M657,275 C657,275,657,265,667,265 L675,265 L675,285 L667,285 C657,285,657,275,657,275 L657,275\" stroke-width=\"1\" stroke=\"black\" stroke-linejoin=\"miter\" fill=\"white\" />\n<text x=\"663\" y=\"291\" font-size=\"6\" text-anchor=\"middle\" font-style=\"italic\">[herald2]</text>\n<text x=\"667\" y=\"278\" font-size=\"7\" text-anchor=\"middle\">0</text>\n<path d=\"M357,225 C357,225,357,215,367,215 L375,215 L375,235 L367,235 C357,235,357,225,357,225 L357,225\" stroke-width=\"1\" stroke=\"black\" stroke-linejoin=\"miter\" fill=\"white\" />\n<text x=\"363\" y=\"241\" font-size=\"6\" text-anchor=\"middle\" font-style=\"italic\">[herald3]</text>\n<text x=\"367\" y=\"228\" font-size=\"7\" text-anchor=\"middle\">1</text>\n<path d=\"M-2,15 L10,15 L10,85 L-2,85 Z\" stroke=\"black\" fill=\"lightgray\" stroke-linejoin=\"miter\" />\n<text x=\"4\" y=\"27\" font-size=\"7\" text-anchor=\"middle\">0</text>\n<text x=\"4\" y=\"77\" font-size=\"7\" text-anchor=\"middle\">1</text>\n<text x=\"-2\" y=\"91\" font-size=\"6\" text-anchor=\"start\" font-style=\"italic\">[0]</text>\n<path d=\"M-2,115 L10,115 L10,185 L-2,185 Z\" stroke=\"black\" fill=\"lightgray\" stroke-linejoin=\"miter\" />\n<text x=\"4\" y=\"127\" font-size=\"7\" text-anchor=\"middle\">2</text>\n<text x=\"4\" y=\"177\" font-size=\"7\" text-anchor=\"middle\">3</text>\n<text x=\"-2\" y=\"191\" font-size=\"6\" text-anchor=\"start\" font-style=\"italic\">[1]</text>\n<path d=\"M783,185 L775,185 L775,165 L783,165 C783,165,793,165,793,175 C793,185,783,185,783,185 L783,185\" stroke-width=\"1\" stroke=\"black\" stroke-linejoin=\"miter\" fill=\"white\" />\n<text x=\"788\" y=\"191\" font-size=\"6\" text-anchor=\"middle\" font-style=\"italic\">[herald0]</text>\n<text x=\"783\" y=\"178\" font-size=\"7\" text-anchor=\"middle\">0</text>\n<path d=\"M483,135 L475,135 L475,115 L483,115 C483,115,493,115,493,125 C493,135,483,135,483,135 L483,135\" stroke-width=\"1\" stroke=\"black\" stroke-linejoin=\"miter\" fill=\"white\" />\n<text x=\"488\" y=\"141\" font-size=\"6\" text-anchor=\"middle\" font-style=\"italic\">[herald1]</text>\n<text x=\"483\" y=\"128\" font-size=\"7\" text-anchor=\"middle\">1</text>\n<path d=\"M783,285 L775,285 L775,265 L783,265 C783,265,793,265,793,275 C793,285,783,285,783,285 L783,285\" stroke-width=\"1\" stroke=\"black\" stroke-linejoin=\"miter\" fill=\"white\" />\n<text x=\"788\" y=\"291\" font-size=\"6\" text-anchor=\"middle\" font-style=\"italic\">[herald2]</text>\n<text x=\"783\" y=\"278\" font-size=\"7\" text-anchor=\"middle\">0</text>\n<path d=\"M483,235 L475,235 L475,215 L483,215 C483,215,493,215,493,225 C493,235,483,235,483,235 L483,235\" stroke-width=\"1\" stroke=\"black\" stroke-linejoin=\"miter\" fill=\"white\" />\n<text x=\"488\" y=\"241\" font-size=\"6\" text-anchor=\"middle\" font-style=\"italic\">[herald3]</text>\n<text x=\"483\" y=\"228\" font-size=\"7\" text-anchor=\"middle\">1</text>\n<path d=\"M990,15 L1002,15 L1002,85 L990,85 Z\" stroke=\"black\" fill=\"lightgray\" stroke-linejoin=\"miter\" />\n<text x=\"996\" y=\"27\" font-size=\"7\" text-anchor=\"middle\">0</text>\n<text x=\"996\" y=\"77\" font-size=\"7\" text-anchor=\"middle\">1</text>\n<text x=\"1002\" y=\"91\" font-size=\"6\" text-anchor=\"end\" font-style=\"italic\">[0]</text>\n<path d=\"M990,115 L1002,115 L1002,185 L990,185 Z\" stroke=\"black\" fill=\"lightgray\" stroke-linejoin=\"miter\" />\n<text x=\"996\" y=\"127\" font-size=\"7\" text-anchor=\"middle\">2</text>\n<text x=\"996\" y=\"177\" font-size=\"7\" text-anchor=\"middle\">3</text>\n<text x=\"1002\" y=\"191\" font-size=\"6\" text-anchor=\"end\" font-style=\"italic\">[1]</text>\n</svg>"
          },
          "metadata": {},
          "execution_count": 21
        }
      ],
      "source": [
        "p = Processor(\"Naive\", cnot)\n",
        "p.min_detected_photons_filter(0)\n",
        "p.add_herald(4, 0)\n",
        "p.add_herald(5, 1)\n",
        "p.add_herald(6, 0)\n",
        "p.add_herald(7, 1)\n",
        "p.add_port(0, pcvl.Port(pcvl.Encoding.DUAL_RAIL, \"0\"))\n",
        "p.add_port(2, pcvl.Port(pcvl.Encoding.DUAL_RAIL, \"1\"))\n",
        "pdisplay(p, recursive=True)"
      ]
    },
    {
      "cell_type": "code",
      "execution_count": null,
      "id": "8e597bc8-ab8f-4c74-8be7-1b18362043f7",
      "metadata": {
        "colab": {
          "base_uri": "https://localhost:8080/"
        },
        "id": "8e597bc8-ab8f-4c74-8be7-1b18362043f7",
        "outputId": "530c6407-1048-4976-9eae-9fc359b570b6"
      },
      "outputs": [
        {
          "output_type": "stream",
          "name": "stdout",
          "text": [
            "Avec l'entrée : 00\n",
            "> 00: 1.0\n",
            "Avec l'entrée : 10\n",
            "> 11: 1.0\n",
            "Avec l'entrée : 01\n",
            "> 01: 1.0\n",
            "Avec l'entrée : 11\n",
            "> 10: 1.0\n"
          ]
        }
      ],
      "source": [
        "measure2p(p)\n",
        "measure2p(p, input_state=qubits[\"10\"])\n",
        "measure2p(p, input_state=qubits[\"01\"])\n",
        "measure2p(p, input_state=qubits[\"11\"])"
      ]
    },
    {
      "cell_type": "markdown",
      "id": "e3bc6269-c2ae-4f3f-bb22-505035b2653f",
      "metadata": {
        "id": "e3bc6269-c2ae-4f3f-bb22-505035b2653f"
      },
      "source": [
        "## À vous de jouer !\n",
        "\n",
        "On a vu comment préparer un qubit dans n'importe quel état quantique. On va maintenant pouvoir passer à la mise en place d'états à deux qubits !\n",
        "\n",
        "Pour commencer, on peut essayer de préparer ce qu'on appelle les **états de Bell.** Ils sont très utilisés, car ils correspondent à des **états intriqués** et ils sont relativement facile à manipuler. Ils correspondent à la base :\n",
        "\n",
        "$$\n",
        "|\\Phi^+\\rangle = \\frac{1}{\\sqrt{2}} (|00\\rangle + |11\\rangle)\n",
        "$$\n",
        "$$\n",
        "|\\Phi^-\\rangle = \\frac{1}{\\sqrt{2}} (|00\\rangle - |11\\rangle)\n",
        "$$\n",
        "$$\n",
        "|\\Psi^+\\rangle = \\frac{1}{\\sqrt{2}} (|01\\rangle + |10\\rangle)\n",
        "$$\n",
        "$$\n",
        "|\\Psi^-\\rangle = \\frac{1}{\\sqrt{2}} (|01\\rangle - |10\\rangle)\n",
        "$$\n",
        "\n",
        "Essayons de préparer l'état $|\\Phi^+\\rangle$. Un raisonnement possible est le suivant : on cherche à avoir un état superposé, il faudra donc une porte d'Hadamard ou équivalent, on a aussi besoin d'états intriqués, il faudra donc une porte $\\CNOT$. Cela donne en pratique :"
      ]
    },
    {
      "cell_type": "code",
      "execution_count": null,
      "id": "75b93a82-87dc-4a7c-9eec-b274c511bd63",
      "metadata": {
        "colab": {
          "base_uri": "https://localhost:8080/",
          "height": 552
        },
        "id": "75b93a82-87dc-4a7c-9eec-b274c511bd63",
        "outputId": "d9ff11f4-7151-4dcc-ae4b-27df15de393d"
      },
      "outputs": [
        {
          "output_type": "execute_result",
          "data": {
            "text/plain": [
              "<drawsvg.drawing.Drawing at 0x7fa86142c3a0>"
            ],
            "image/svg+xml": "<?xml version=\"1.0\" encoding=\"UTF-8\"?>\n<svg xmlns=\"http://www.w3.org/2000/svg\" xmlns:xlink=\"http://www.w3.org/1999/xlink\"\n     width=\"1420.0\" height=\"531.25\" viewBox=\"-36.0 0 1136.0 425.0\">\n<defs>\n</defs>\n<path d=\"M10,25 L25,25\" stroke-width=\"3\" stroke=\"darkred\" stroke-linejoin=\"miter\" fill=\"none\" />\n<path d=\"M10,75 L25,75\" stroke-width=\"3\" stroke=\"darkred\" stroke-linejoin=\"miter\" fill=\"none\" />\n<path d=\"M10,125 L25,125\" stroke-width=\"3\" stroke=\"darkred\" stroke-linejoin=\"miter\" fill=\"none\" />\n<path d=\"M10,175 L25,175\" stroke-width=\"3\" stroke=\"darkred\" stroke-linejoin=\"miter\" fill=\"none\" />\n<path d=\"M27,2 L1073,2 L1073,398 L27,398 Z\" stroke=\"black\" fill=\"lightblue\" stroke-dasharray=\"1,2\" stroke-linejoin=\"miter\" />\n<text x=\"29\" y=\"405\" font-size=\"8\" text-anchor=\"start\">CPLX</text>\n<path d=\"M25,25 L53,25 L72,44\" stroke=\"darkred\" stroke-width=\"3\" fill=\"none\" />\n<path d=\"M78,44 L97,25 L125,25\" stroke=\"darkred\" stroke-width=\"3\" fill=\"none\" />\n<path d=\"M25,75 L53,75 L72,56\" stroke=\"darkred\" stroke-width=\"3\" fill=\"none\" />\n<path d=\"M78,56 L97,75 L125,75\" stroke=\"darkred\" stroke-width=\"3\" fill=\"none\" />\n<path d=\"M50,43 L100,43 L100,57 L50,57 Z\" stroke=\"black\" fill=\"black\" stroke-linejoin=\"miter\" />\n<text x=\"75\" y=\"85\" font-size=\"7\" text-anchor=\"middle\"></text>\n<text x=\"75\" y=\"26\" font-size=\"7\" text-anchor=\"middle\"></text>\n<path d=\"M50,43 L100,43 L100,47 L50,47 Z\" stroke=\"black\" fill=\"lightgray\" stroke-linejoin=\"miter\" />\n<path d=\"M93,50 L103,50 L103,60 L93,60 Z\" stroke=\"black\" fill=\"aquamarine\" stroke-linejoin=\"miter\" />\n<text x=\"98\" y=\"57\" font-size=\"6\" text-anchor=\"middle\">H</text>\n<path d=\"M25,125 L125,125\" stroke=\"darkred\" stroke-width=\"3\" fill=\"none\" />\n<path d=\"M25,175 L125,175\" stroke=\"darkred\" stroke-width=\"3\" fill=\"none\" />\n<path d=\"M125,25 L225,25\" stroke=\"darkred\" stroke-width=\"3\" fill=\"none\" />\n<path d=\"M125,75 L225,75\" stroke=\"darkred\" stroke-width=\"3\" fill=\"none\" />\n<path d=\"M125,125 L225,125\" stroke=\"darkred\" stroke-width=\"3\" fill=\"none\" />\n<path d=\"M125,175 L225,175\" stroke=\"darkred\" stroke-width=\"3\" fill=\"none\" />\n<path d=\"M125,225 L225,225\" stroke=\"darkred\" stroke-width=\"3\" fill=\"none\" />\n<path d=\"M125,275 L225,275\" stroke=\"darkred\" stroke-width=\"3\" fill=\"none\" />\n<path d=\"M125,325 L225,325\" stroke=\"darkred\" stroke-width=\"3\" fill=\"none\" />\n<path d=\"M125,375 L225,375\" stroke=\"darkred\" stroke-width=\"3\" fill=\"none\" />\n<path d=\"M127.5,2.5 L222.5,2.5 L222.5,397.5 L127.5,397.5 Z\" stroke=\"darkred\" fill=\"lightpink\" stroke-linejoin=\"miter\" />\n<text x=\"135\" y=\"24\" font-size=\"8\" text-anchor=\"start\" font-weight=\"bold\"><tspan x=\"135\" dy=\"0em\">HERALDED</tspan><tspan x=\"135\" dy=\"1em\">CNOT</tspan></text>\n<path d=\"M225,25 L240,25\" stroke-width=\"3\" stroke=\"darkred\" stroke-linejoin=\"miter\" fill=\"none\" />\n<path d=\"M225,75 L240,75\" stroke-width=\"3\" stroke=\"darkred\" stroke-linejoin=\"miter\" fill=\"none\" />\n<path d=\"M225,125 L240,125\" stroke-width=\"3\" stroke=\"darkred\" stroke-linejoin=\"miter\" fill=\"none\" />\n<path d=\"M225,175 L240,175\" stroke-width=\"3\" stroke=\"darkred\" stroke-linejoin=\"miter\" fill=\"none\" />\n<path d=\"M107,225 C107,225,107,215,117,215 L125,215 L125,235 L117,235 C107,235,107,225,107,225 L107,225\" stroke-width=\"1\" stroke=\"black\" stroke-linejoin=\"miter\" fill=\"white\" />\n<text x=\"113\" y=\"241\" font-size=\"6\" text-anchor=\"middle\" font-style=\"italic\">[herald0]</text>\n<text x=\"117\" y=\"228\" font-size=\"7\" text-anchor=\"middle\">0</text>\n<path d=\"M107,275 C107,275,107,265,117,265 L125,265 L125,285 L117,285 C107,285,107,275,107,275 L107,275\" stroke-width=\"1\" stroke=\"black\" stroke-linejoin=\"miter\" fill=\"white\" />\n<text x=\"113\" y=\"291\" font-size=\"6\" text-anchor=\"middle\" font-style=\"italic\">[herald1]</text>\n<text x=\"117\" y=\"278\" font-size=\"7\" text-anchor=\"middle\">1</text>\n<path d=\"M107,325 C107,325,107,315,117,315 L125,315 L125,335 L117,335 C107,335,107,325,107,325 L107,325\" stroke-width=\"1\" stroke=\"black\" stroke-linejoin=\"miter\" fill=\"white\" />\n<text x=\"113\" y=\"341\" font-size=\"6\" text-anchor=\"middle\" font-style=\"italic\">[herald2]</text>\n<text x=\"117\" y=\"328\" font-size=\"7\" text-anchor=\"middle\">0</text>\n<path d=\"M107,375 C107,375,107,365,117,365 L125,365 L125,385 L117,385 C107,385,107,375,107,375 L107,375\" stroke-width=\"1\" stroke=\"black\" stroke-linejoin=\"miter\" fill=\"white\" />\n<text x=\"113\" y=\"391\" font-size=\"6\" text-anchor=\"middle\" font-style=\"italic\">[herald3]</text>\n<text x=\"117\" y=\"378\" font-size=\"7\" text-anchor=\"middle\">1</text>\n<path d=\"M-2,15 L10,15 L10,85 L-2,85 Z\" stroke=\"black\" fill=\"lightgray\" stroke-linejoin=\"miter\" />\n<text x=\"4\" y=\"27\" font-size=\"7\" text-anchor=\"middle\">0</text>\n<text x=\"4\" y=\"77\" font-size=\"7\" text-anchor=\"middle\">1</text>\n<text x=\"-2\" y=\"91\" font-size=\"6\" text-anchor=\"start\" font-style=\"italic\">[0]</text>\n<path d=\"M-2,115 L10,115 L10,185 L-2,185 Z\" stroke=\"black\" fill=\"lightgray\" stroke-linejoin=\"miter\" />\n<text x=\"4\" y=\"127\" font-size=\"7\" text-anchor=\"middle\">2</text>\n<text x=\"4\" y=\"177\" font-size=\"7\" text-anchor=\"middle\">3</text>\n<text x=\"-2\" y=\"191\" font-size=\"6\" text-anchor=\"start\" font-style=\"italic\">[1]</text>\n<path d=\"M233,235 L225,235 L225,215 L233,215 C233,215,243,215,243,225 C243,235,233,235,233,235 L233,235\" stroke-width=\"1\" stroke=\"black\" stroke-linejoin=\"miter\" fill=\"white\" />\n<text x=\"238\" y=\"241\" font-size=\"6\" text-anchor=\"middle\" font-style=\"italic\">[herald0]</text>\n<text x=\"233\" y=\"228\" font-size=\"7\" text-anchor=\"middle\">0</text>\n<path d=\"M233,285 L225,285 L225,265 L233,265 C233,265,243,265,243,275 C243,285,233,285,233,285 L233,285\" stroke-width=\"1\" stroke=\"black\" stroke-linejoin=\"miter\" fill=\"white\" />\n<text x=\"238\" y=\"291\" font-size=\"6\" text-anchor=\"middle\" font-style=\"italic\">[herald1]</text>\n<text x=\"233\" y=\"278\" font-size=\"7\" text-anchor=\"middle\">1</text>\n<path d=\"M233,335 L225,335 L225,315 L233,315 C233,315,243,315,243,325 C243,335,233,335,233,335 L233,335\" stroke-width=\"1\" stroke=\"black\" stroke-linejoin=\"miter\" fill=\"white\" />\n<text x=\"238\" y=\"341\" font-size=\"6\" text-anchor=\"middle\" font-style=\"italic\">[herald2]</text>\n<text x=\"233\" y=\"328\" font-size=\"7\" text-anchor=\"middle\">0</text>\n<path d=\"M233,385 L225,385 L225,365 L233,365 C233,365,243,365,243,375 C243,385,233,385,233,385 L233,385\" stroke-width=\"1\" stroke=\"black\" stroke-linejoin=\"miter\" fill=\"white\" />\n<text x=\"238\" y=\"391\" font-size=\"6\" text-anchor=\"middle\" font-style=\"italic\">[herald3]</text>\n<text x=\"233\" y=\"378\" font-size=\"7\" text-anchor=\"middle\">1</text>\n<path d=\"M240,15 L252,15 L252,85 L240,85 Z\" stroke=\"black\" fill=\"lightgray\" stroke-linejoin=\"miter\" />\n<text x=\"246\" y=\"27\" font-size=\"7\" text-anchor=\"middle\">0</text>\n<text x=\"246\" y=\"77\" font-size=\"7\" text-anchor=\"middle\">1</text>\n<text x=\"252\" y=\"91\" font-size=\"6\" text-anchor=\"end\" font-style=\"italic\">[0]</text>\n<path d=\"M240,115 L252,115 L252,185 L240,185 Z\" stroke=\"black\" fill=\"lightgray\" stroke-linejoin=\"miter\" />\n<text x=\"246\" y=\"127\" font-size=\"7\" text-anchor=\"middle\">2</text>\n<text x=\"246\" y=\"177\" font-size=\"7\" text-anchor=\"middle\">3</text>\n<text x=\"252\" y=\"191\" font-size=\"6\" text-anchor=\"end\" font-style=\"italic\">[1]</text>\n</svg>"
          },
          "metadata": {},
          "execution_count": 23
        }
      ],
      "source": [
        "phi_plus = Circuit(8).add(0, BS.H()).add(0, cnot)\n",
        "\n",
        "# Préparation du processeur\n",
        "p_plus = Processor(\"Naive\", phi_plus)  # Étape 1 : création du processeur avec le bon circuit\n",
        "p_plus.min_detected_photons_filter(0)       # Étape 2 : création du filtre pour annuler les expériences ratées\n",
        "p_plus.add_herald(4, 0)                     # Étape 3 : ajouts d'heralds sur les rails 4, 5, 6, 7\n",
        "p_plus.add_herald(5, 1)\n",
        "p_plus.add_herald(6, 0)\n",
        "p_plus.add_herald(7, 1)\n",
        "p_plus.add_port(0, pcvl.Port(pcvl.Encoding.DUAL_RAIL, \"0\"))  # (Étape 4) : On peut, cela n'est pas obligatoire\n",
        "p_plus.add_port(2, pcvl.Port(pcvl.Encoding.DUAL_RAIL, \"1\"))  #      préciser que l'on est en encodage par rail.\n",
        "pdisplay(p_plus, recursive=True)            # Étape finale : on admire le résultat/ on pleure si ça marche pas"
      ]
    },
    {
      "cell_type": "code",
      "execution_count": null,
      "id": "a891a5dcb6e7c811",
      "metadata": {
        "colab": {
          "base_uri": "https://localhost:8080/"
        },
        "id": "a891a5dcb6e7c811",
        "outputId": "dbe75744-4993-4b6c-b55c-1c2d6e626343"
      },
      "outputs": [
        {
          "output_type": "stream",
          "name": "stdout",
          "text": [
            "Avec l'entrée : 00\n",
            "> 00: 0.5\n",
            "> 11: 0.5\n"
          ]
        }
      ],
      "source": [
        "measure2p(p_plus)"
      ]
    },
    {
      "cell_type": "markdown",
      "id": "a128485e-5a46-4d15-bc5d-947bb1fb6b73",
      "metadata": {
        "id": "a128485e-5a46-4d15-bc5d-947bb1fb6b73"
      },
      "source": [
        "On peut aussi tricher avec :"
      ]
    },
    {
      "cell_type": "code",
      "execution_count": null,
      "id": "91c44c47-0c8f-4e05-a338-2e01a022c530",
      "metadata": {
        "colab": {
          "base_uri": "https://localhost:8080/"
        },
        "id": "91c44c47-0c8f-4e05-a338-2e01a022c530",
        "outputId": "23a11151-b035-4b72-8938-a8645ac9f019"
      },
      "outputs": [
        {
          "output_type": "stream",
          "name": "stdout",
          "text": [
            "-sqrt(2)/2*|0,1,0,1>+sqrt(2)/2*|1,0,1,0>\n"
          ]
        }
      ],
      "source": [
        "e = pcvl.utils.stategenerator.StateGenerator(encoding=pcvl.Encoding.DUAL_RAIL)\n",
        "b = e.bell_state(\"phi-\")\n",
        "print(b)"
      ]
    },
    {
      "cell_type": "markdown",
      "id": "fa8fd275-a1b7-4542-ad0e-7480bc02ee8a",
      "metadata": {
        "id": "fa8fd275-a1b7-4542-ad0e-7480bc02ee8a"
      },
      "source": [
        "## Étape 1 : Créations d'états quantiques\n",
        "\n",
        "**1.a)** Créez l'état :\n",
        "$$\n",
        "|\\psi\\rangle = |11\\rangle\n",
        "$$\n",
        "\n",
        "Sachant que l'on part toujours de notre état de base, ici $|00\\rangle$. Les qubits sont accessibles via le dictionnaire `qbits` pour les tests, même si l'entrée par défault est déjà $|00\\rangle$.\n",
        "\n",
        "*Il y a plusieurs façons de procéder. Tout est accepté.*"
      ]
    },
    {
      "cell_type": "code",
      "execution_count": null,
      "id": "e23f397d-3530-4f89-86cd-9ffb1243444a",
      "metadata": {
        "colab": {
          "base_uri": "https://localhost:8080/",
          "height": 302
        },
        "id": "e23f397d-3530-4f89-86cd-9ffb1243444a",
        "outputId": "3257b628-9db3-47cb-a589-a905d766146a"
      },
      "outputs": [
        {
          "output_type": "execute_result",
          "data": {
            "text/plain": [
              "<drawsvg.drawing.Drawing at 0x7fa86140fc10>"
            ],
            "image/svg+xml": "<?xml version=\"1.0\" encoding=\"UTF-8\"?>\n<svg xmlns=\"http://www.w3.org/2000/svg\" xmlns:xlink=\"http://www.w3.org/1999/xlink\"\n     width=\"195.0\" height=\"281.25\" viewBox=\"-28.0 0 156.0 225.0\">\n<defs>\n</defs>\n<path d=\"M10,25 L25,25\" stroke-width=\"3\" stroke=\"darkred\" stroke-linejoin=\"miter\" fill=\"none\" />\n<path d=\"M10,75 L25,75\" stroke-width=\"3\" stroke=\"darkred\" stroke-linejoin=\"miter\" fill=\"none\" />\n<path d=\"M10,125 L25,125\" stroke-width=\"3\" stroke=\"darkred\" stroke-linejoin=\"miter\" fill=\"none\" />\n<path d=\"M10,175 L25,175\" stroke-width=\"3\" stroke=\"darkred\" stroke-linejoin=\"miter\" fill=\"none\" />\n<path d=\"M28,25 L72,75\" stroke=\"white\" stroke-width=\"6\" fill=\"none\" />\n<path d=\"M25,25 L28,25 L72,75 L75,75\" stroke=\"darkred\" stroke-width=\"3\" fill=\"none\" />\n<path d=\"M28,75 L72,25\" stroke=\"white\" stroke-width=\"6\" fill=\"none\" />\n<path d=\"M25,75 L28,75 L72,25 L75,25\" stroke=\"darkred\" stroke-width=\"3\" fill=\"none\" />\n<path d=\"M28,125 L72,175\" stroke=\"white\" stroke-width=\"6\" fill=\"none\" />\n<path d=\"M25,125 L28,125 L72,175 L75,175\" stroke=\"darkred\" stroke-width=\"3\" fill=\"none\" />\n<path d=\"M28,175 L72,125\" stroke=\"white\" stroke-width=\"6\" fill=\"none\" />\n<path d=\"M25,175 L28,175 L72,125 L75,125\" stroke=\"darkred\" stroke-width=\"3\" fill=\"none\" />\n<path d=\"M75,25 L90,25\" stroke-width=\"3\" stroke=\"darkred\" stroke-linejoin=\"miter\" fill=\"none\" />\n<path d=\"M75,75 L90,75\" stroke-width=\"3\" stroke=\"darkred\" stroke-linejoin=\"miter\" fill=\"none\" />\n<path d=\"M75,125 L90,125\" stroke-width=\"3\" stroke=\"darkred\" stroke-linejoin=\"miter\" fill=\"none\" />\n<path d=\"M75,175 L90,175\" stroke-width=\"3\" stroke=\"darkred\" stroke-linejoin=\"miter\" fill=\"none\" />\n<text x=\"100\" y=\"28\" font-size=\"6\" text-anchor=\"end\">0</text>\n<text x=\"100\" y=\"78\" font-size=\"6\" text-anchor=\"end\">1</text>\n<text x=\"100\" y=\"128\" font-size=\"6\" text-anchor=\"end\">2</text>\n<text x=\"100\" y=\"178\" font-size=\"6\" text-anchor=\"end\">3</text>\n<text x=\"0\" y=\"28\" font-size=\"6\" text-anchor=\"start\">0</text>\n<text x=\"0\" y=\"78\" font-size=\"6\" text-anchor=\"start\">1</text>\n<text x=\"0\" y=\"128\" font-size=\"6\" text-anchor=\"start\">2</text>\n<text x=\"0\" y=\"178\" font-size=\"6\" text-anchor=\"start\">3</text>\n</svg>"
          },
          "metadata": {},
          "execution_count": 26
        }
      ],
      "source": [
        "# M = pcvl.Matrix([[0, 0, 0, 1],\n",
        "#                  [0, 0, 1, 0],\n",
        "#                  [0, 1, 0, 0],\n",
        "#                  [1, 0, 0, 0]])\n",
        "# step_one = comp.Unitary(U=M)\n",
        "\n",
        "# Circuit(4).add(0, PERM([1,0])).add(2, PERM([1,0]))\n",
        "\n",
        "step_one = Circuit(4).add(0, PERM([1,0,3,2]))\n",
        "pdisplay(step_one)"
      ]
    },
    {
      "cell_type": "markdown",
      "id": "2a7629772fb71090",
      "metadata": {
        "collapsed": false,
        "id": "2a7629772fb71090"
      },
      "source": [
        "Si vous n'avez pas utilisé de porte *CNOT*, vous pouvez vérifier avec :"
      ]
    },
    {
      "cell_type": "code",
      "execution_count": null,
      "id": "f72bf82e-1187-4333-9c66-c6a1d2f80142",
      "metadata": {
        "colab": {
          "base_uri": "https://localhost:8080/",
          "height": 162
        },
        "id": "f72bf82e-1187-4333-9c66-c6a1d2f80142",
        "outputId": "9adaa247-cdba-4917-8e00-b7d9cd318b26"
      },
      "outputs": [
        {
          "output_type": "display_data",
          "data": {
            "text/plain": [
              "<IPython.core.display.HTML object>"
            ],
            "text/html": [
              "<table>\n",
              "<thead>\n",
              "<tr><th style=\"text-align: right;\">  </th><th style=\"text-align: right;\">  00</th><th style=\"text-align: right;\">  01</th><th style=\"text-align: right;\">  10</th><th style=\"text-align: right;\">  11</th></tr>\n",
              "</thead>\n",
              "<tbody>\n",
              "<tr><td style=\"text-align: right;\">00</td><td style=\"text-align: right;\">   0</td><td style=\"text-align: right;\">   0</td><td style=\"text-align: right;\">   0</td><td style=\"text-align: right;\">   1</td></tr>\n",
              "<tr><td style=\"text-align: right;\">01</td><td style=\"text-align: right;\">   0</td><td style=\"text-align: right;\">   0</td><td style=\"text-align: right;\">   1</td><td style=\"text-align: right;\">   0</td></tr>\n",
              "<tr><td style=\"text-align: right;\">10</td><td style=\"text-align: right;\">   0</td><td style=\"text-align: right;\">   1</td><td style=\"text-align: right;\">   0</td><td style=\"text-align: right;\">   0</td></tr>\n",
              "<tr><td style=\"text-align: right;\">11</td><td style=\"text-align: right;\">   1</td><td style=\"text-align: right;\">   0</td><td style=\"text-align: right;\">   0</td><td style=\"text-align: right;\">   0</td></tr>\n",
              "</tbody>\n",
              "</table>"
            ]
          },
          "metadata": {}
        },
        {
          "output_type": "stream",
          "name": "stdout",
          "text": [
            "Résultat : {'00': 0j, '01': 0j, '10': 0j, '11': (1+0j)}\n",
            "Solution : {'00': 0j, '01': 0j, '10': 0j, '11': (1+0j)}\n"
          ]
        }
      ],
      "source": [
        "if len(step_one.depths()) == 4:\n",
        "    analyze(step_one)\n",
        "    print(f\"Résultat : {amplitudes(step_one)}\")\n",
        "    print(\"Solution : {'00': 0j, '01': 0j, '10': 0j, '11': (1+0j)}\")\n",
        "else:\n",
        "    print(\"Invalid length, got\", len(step_one.depths()))"
      ]
    },
    {
      "cell_type": "markdown",
      "id": "b1afbae34cce3d47",
      "metadata": {
        "collapsed": false,
        "id": "b1afbae34cce3d47"
      },
      "source": [
        "Si vous avez utilisé un *CNOT*, il faut mettre en place un processeur :"
      ]
    },
    {
      "cell_type": "code",
      "execution_count": null,
      "id": "ae871260-3bc2-493d-949f-7ba1b1698ad0",
      "metadata": {
        "colab": {
          "base_uri": "https://localhost:8080/"
        },
        "id": "ae871260-3bc2-493d-949f-7ba1b1698ad0",
        "outputId": "cffe1cb2-db5a-448b-c5e8-65aab1c9d13e"
      },
      "outputs": [
        {
          "output_type": "stream",
          "name": "stdout",
          "text": [
            "Caught wrong size : 4\n"
          ]
        }
      ],
      "source": [
        "if len(step_one.depths()) == 8:\n",
        "    p_step_one = Processor(\"Naive\", step_one)\n",
        "    p_step_one.min_detected_photons_filter(0)\n",
        "    p_step_one.add_herald(4, 0)\n",
        "    p_step_one.add_herald(5, 1)\n",
        "    p_step_one.add_herald(6, 0)\n",
        "    p_step_one.add_herald(7, 1)\n",
        "    p_step_one.add_port(0, pcvl.Port(pcvl.Encoding.DUAL_RAIL, \"0\"))\n",
        "    p_step_one.add_port(2, pcvl.Port(pcvl.Encoding.DUAL_RAIL, \"1\"))\n",
        "    pdisplay(p_step_one, recursive=True)\n",
        "else:\n",
        "    print(\"Caught wrong size :\", len(step_one.depths()))"
      ]
    },
    {
      "cell_type": "code",
      "execution_count": null,
      "id": "4e518e26-93b2-453e-bf96-0542414050ed",
      "metadata": {
        "id": "4e518e26-93b2-453e-bf96-0542414050ed"
      },
      "outputs": [],
      "source": [
        "if len(step_one.depths()) == 8:\n",
        "    measure2p(p_step_one)\n",
        "    print(\"Solution :\\n> 11: 1.0\")"
      ]
    },
    {
      "cell_type": "markdown",
      "id": "ff6e249d-1471-4036-8cb7-239826de3c2c",
      "metadata": {
        "id": "ff6e249d-1471-4036-8cb7-239826de3c2c"
      },
      "source": [
        "**1.b)** Créez l'état :\n",
        "$$\n",
        "|\\psi\\rangle = -\\cos\\frac{\\pi}{6}|00\\rangle-\\sin\\frac{\\pi}{6}|11\\rangle\n",
        "$$"
      ]
    },
    {
      "cell_type": "code",
      "execution_count": null,
      "id": "f2ff4a97-c6ab-4900-aca1-10c703d1d4f0",
      "metadata": {
        "colab": {
          "base_uri": "https://localhost:8080/",
          "height": 552
        },
        "id": "f2ff4a97-c6ab-4900-aca1-10c703d1d4f0",
        "outputId": "2eff7425-4abd-4718-a952-0b8a3e14c4b7"
      },
      "outputs": [
        {
          "output_type": "execute_result",
          "data": {
            "text/plain": [
              "<drawsvg.drawing.Drawing at 0x7fa8614502e0>"
            ],
            "image/svg+xml": "<?xml version=\"1.0\" encoding=\"UTF-8\"?>\n<svg xmlns=\"http://www.w3.org/2000/svg\" xmlns:xlink=\"http://www.w3.org/1999/xlink\"\n     width=\"1420.0\" height=\"531.25\" viewBox=\"-36.0 0 1136.0 425.0\">\n<defs>\n</defs>\n<path d=\"M10,25 L25,25\" stroke-width=\"3\" stroke=\"darkred\" stroke-linejoin=\"miter\" fill=\"none\" />\n<path d=\"M10,75 L25,75\" stroke-width=\"3\" stroke=\"darkred\" stroke-linejoin=\"miter\" fill=\"none\" />\n<path d=\"M10,125 L25,125\" stroke-width=\"3\" stroke=\"darkred\" stroke-linejoin=\"miter\" fill=\"none\" />\n<path d=\"M10,175 L25,175\" stroke-width=\"3\" stroke=\"darkred\" stroke-linejoin=\"miter\" fill=\"none\" />\n<path d=\"M27,2 L1073,2 L1073,398 L27,398 Z\" stroke=\"black\" fill=\"lightblue\" stroke-dasharray=\"1,2\" stroke-linejoin=\"miter\" />\n<text x=\"29\" y=\"405\" font-size=\"8\" text-anchor=\"start\">CPLX</text>\n<path d=\"M25,25 L53,25 L72,44\" stroke=\"darkred\" stroke-width=\"3\" fill=\"none\" />\n<path d=\"M78,44 L97,25 L125,25\" stroke=\"darkred\" stroke-width=\"3\" fill=\"none\" />\n<path d=\"M25,75 L53,75 L72,56\" stroke=\"darkred\" stroke-width=\"3\" fill=\"none\" />\n<path d=\"M78,56 L97,75 L125,75\" stroke=\"darkred\" stroke-width=\"3\" fill=\"none\" />\n<path d=\"M50,43 L100,43 L100,57 L50,57 Z\" stroke=\"black\" fill=\"black\" stroke-linejoin=\"miter\" />\n<text x=\"75\" y=\"80\" font-size=\"7\" text-anchor=\"middle\"></text>\n<text x=\"75\" y=\"26\" font-size=\"7\" text-anchor=\"middle\">Θ=pi/3</text>\n<path d=\"M50,43 L100,43 L100,47 L50,47 Z\" stroke=\"black\" fill=\"lightgray\" stroke-linejoin=\"miter\" />\n<path d=\"M93,50 L103,50 L103,60 L93,60 Z\" stroke=\"black\" fill=\"aquamarine\" stroke-linejoin=\"miter\" />\n<text x=\"98\" y=\"57\" font-size=\"6\" text-anchor=\"middle\">H</text>\n<path d=\"M25,125 L125,125\" stroke=\"darkred\" stroke-width=\"3\" fill=\"none\" />\n<path d=\"M25,175 L125,175\" stroke=\"darkred\" stroke-width=\"3\" fill=\"none\" />\n<path d=\"M125,25 L225,25\" stroke=\"darkred\" stroke-width=\"3\" fill=\"none\" />\n<path d=\"M125,75 L225,75\" stroke=\"darkred\" stroke-width=\"3\" fill=\"none\" />\n<path d=\"M125,125 L225,125\" stroke=\"darkred\" stroke-width=\"3\" fill=\"none\" />\n<path d=\"M125,175 L225,175\" stroke=\"darkred\" stroke-width=\"3\" fill=\"none\" />\n<path d=\"M125,225 L225,225\" stroke=\"darkred\" stroke-width=\"3\" fill=\"none\" />\n<path d=\"M125,275 L225,275\" stroke=\"darkred\" stroke-width=\"3\" fill=\"none\" />\n<path d=\"M125,325 L225,325\" stroke=\"darkred\" stroke-width=\"3\" fill=\"none\" />\n<path d=\"M125,375 L225,375\" stroke=\"darkred\" stroke-width=\"3\" fill=\"none\" />\n<path d=\"M127.5,2.5 L222.5,2.5 L222.5,397.5 L127.5,397.5 Z\" stroke=\"darkred\" fill=\"lightpink\" stroke-linejoin=\"miter\" />\n<text x=\"135\" y=\"24\" font-size=\"8\" text-anchor=\"start\" font-weight=\"bold\"><tspan x=\"135\" dy=\"0em\">HERALDED</tspan><tspan x=\"135\" dy=\"1em\">CNOT</tspan></text>\n<path d=\"M225,25 L240,25\" stroke-width=\"3\" stroke=\"darkred\" stroke-linejoin=\"miter\" fill=\"none\" />\n<path d=\"M225,75 L240,75\" stroke-width=\"3\" stroke=\"darkred\" stroke-linejoin=\"miter\" fill=\"none\" />\n<path d=\"M225,125 L240,125\" stroke-width=\"3\" stroke=\"darkred\" stroke-linejoin=\"miter\" fill=\"none\" />\n<path d=\"M225,175 L240,175\" stroke-width=\"3\" stroke=\"darkred\" stroke-linejoin=\"miter\" fill=\"none\" />\n<path d=\"M107,225 C107,225,107,215,117,215 L125,215 L125,235 L117,235 C107,235,107,225,107,225 L107,225\" stroke-width=\"1\" stroke=\"black\" stroke-linejoin=\"miter\" fill=\"white\" />\n<text x=\"113\" y=\"241\" font-size=\"6\" text-anchor=\"middle\" font-style=\"italic\">[herald0]</text>\n<text x=\"117\" y=\"228\" font-size=\"7\" text-anchor=\"middle\">0</text>\n<path d=\"M107,275 C107,275,107,265,117,265 L125,265 L125,285 L117,285 C107,285,107,275,107,275 L107,275\" stroke-width=\"1\" stroke=\"black\" stroke-linejoin=\"miter\" fill=\"white\" />\n<text x=\"113\" y=\"291\" font-size=\"6\" text-anchor=\"middle\" font-style=\"italic\">[herald1]</text>\n<text x=\"117\" y=\"278\" font-size=\"7\" text-anchor=\"middle\">1</text>\n<path d=\"M107,325 C107,325,107,315,117,315 L125,315 L125,335 L117,335 C107,335,107,325,107,325 L107,325\" stroke-width=\"1\" stroke=\"black\" stroke-linejoin=\"miter\" fill=\"white\" />\n<text x=\"113\" y=\"341\" font-size=\"6\" text-anchor=\"middle\" font-style=\"italic\">[herald2]</text>\n<text x=\"117\" y=\"328\" font-size=\"7\" text-anchor=\"middle\">0</text>\n<path d=\"M107,375 C107,375,107,365,117,365 L125,365 L125,385 L117,385 C107,385,107,375,107,375 L107,375\" stroke-width=\"1\" stroke=\"black\" stroke-linejoin=\"miter\" fill=\"white\" />\n<text x=\"113\" y=\"391\" font-size=\"6\" text-anchor=\"middle\" font-style=\"italic\">[herald3]</text>\n<text x=\"117\" y=\"378\" font-size=\"7\" text-anchor=\"middle\">1</text>\n<path d=\"M-2,15 L10,15 L10,85 L-2,85 Z\" stroke=\"black\" fill=\"lightgray\" stroke-linejoin=\"miter\" />\n<text x=\"4\" y=\"27\" font-size=\"7\" text-anchor=\"middle\">0</text>\n<text x=\"4\" y=\"77\" font-size=\"7\" text-anchor=\"middle\">1</text>\n<text x=\"-2\" y=\"91\" font-size=\"6\" text-anchor=\"start\" font-style=\"italic\">[0]</text>\n<path d=\"M-2,115 L10,115 L10,185 L-2,185 Z\" stroke=\"black\" fill=\"lightgray\" stroke-linejoin=\"miter\" />\n<text x=\"4\" y=\"127\" font-size=\"7\" text-anchor=\"middle\">2</text>\n<text x=\"4\" y=\"177\" font-size=\"7\" text-anchor=\"middle\">3</text>\n<text x=\"-2\" y=\"191\" font-size=\"6\" text-anchor=\"start\" font-style=\"italic\">[1]</text>\n<path d=\"M233,235 L225,235 L225,215 L233,215 C233,215,243,215,243,225 C243,235,233,235,233,235 L233,235\" stroke-width=\"1\" stroke=\"black\" stroke-linejoin=\"miter\" fill=\"white\" />\n<text x=\"238\" y=\"241\" font-size=\"6\" text-anchor=\"middle\" font-style=\"italic\">[herald0]</text>\n<text x=\"233\" y=\"228\" font-size=\"7\" text-anchor=\"middle\">0</text>\n<path d=\"M233,285 L225,285 L225,265 L233,265 C233,265,243,265,243,275 C243,285,233,285,233,285 L233,285\" stroke-width=\"1\" stroke=\"black\" stroke-linejoin=\"miter\" fill=\"white\" />\n<text x=\"238\" y=\"291\" font-size=\"6\" text-anchor=\"middle\" font-style=\"italic\">[herald1]</text>\n<text x=\"233\" y=\"278\" font-size=\"7\" text-anchor=\"middle\">1</text>\n<path d=\"M233,335 L225,335 L225,315 L233,315 C233,315,243,315,243,325 C243,335,233,335,233,335 L233,335\" stroke-width=\"1\" stroke=\"black\" stroke-linejoin=\"miter\" fill=\"white\" />\n<text x=\"238\" y=\"341\" font-size=\"6\" text-anchor=\"middle\" font-style=\"italic\">[herald2]</text>\n<text x=\"233\" y=\"328\" font-size=\"7\" text-anchor=\"middle\">0</text>\n<path d=\"M233,385 L225,385 L225,365 L233,365 C233,365,243,365,243,375 C243,385,233,385,233,385 L233,385\" stroke-width=\"1\" stroke=\"black\" stroke-linejoin=\"miter\" fill=\"white\" />\n<text x=\"238\" y=\"391\" font-size=\"6\" text-anchor=\"middle\" font-style=\"italic\">[herald3]</text>\n<text x=\"233\" y=\"378\" font-size=\"7\" text-anchor=\"middle\">1</text>\n<path d=\"M240,15 L252,15 L252,85 L240,85 Z\" stroke=\"black\" fill=\"lightgray\" stroke-linejoin=\"miter\" />\n<text x=\"246\" y=\"27\" font-size=\"7\" text-anchor=\"middle\">0</text>\n<text x=\"246\" y=\"77\" font-size=\"7\" text-anchor=\"middle\">1</text>\n<text x=\"252\" y=\"91\" font-size=\"6\" text-anchor=\"end\" font-style=\"italic\">[0]</text>\n<path d=\"M240,115 L252,115 L252,185 L240,185 Z\" stroke=\"black\" fill=\"lightgray\" stroke-linejoin=\"miter\" />\n<text x=\"246\" y=\"127\" font-size=\"7\" text-anchor=\"middle\">2</text>\n<text x=\"246\" y=\"177\" font-size=\"7\" text-anchor=\"middle\">3</text>\n<text x=\"252\" y=\"191\" font-size=\"6\" text-anchor=\"end\" font-style=\"italic\">[1]</text>\n</svg>"
          },
          "metadata": {},
          "execution_count": 30
        }
      ],
      "source": [
        "step_one_more = Circuit(8).add(0, BS.H(pi/3)).add(0, cnot)\n",
        "\n",
        "p_step_one_more = pcvl.Processor(\"Naive\", step_one_more)\n",
        "p_step_one_more.min_detected_photons_filter(0)\n",
        "p_step_one_more.add_herald(4, 0)\n",
        "p_step_one_more.add_herald(5, 1)\n",
        "p_step_one_more.add_herald(6, 0)\n",
        "p_step_one_more.add_herald(7, 1)\n",
        "p_step_one_more.add_port(0, pcvl.Port(pcvl.Encoding.DUAL_RAIL, \"0\"))\n",
        "p_step_one_more.add_port(2, pcvl.Port(pcvl.Encoding.DUAL_RAIL, \"1\"))\n",
        "pdisplay(p_step_one_more, recursive=True)"
      ]
    },
    {
      "cell_type": "code",
      "execution_count": null,
      "id": "5a2c7cf9-e69e-448b-97f4-2aebe2a279d4",
      "metadata": {
        "colab": {
          "base_uri": "https://localhost:8080/"
        },
        "id": "5a2c7cf9-e69e-448b-97f4-2aebe2a279d4",
        "outputId": "9683f72a-69db-4b44-d873-61f21242930e"
      },
      "outputs": [
        {
          "output_type": "stream",
          "name": "stdout",
          "text": [
            "Avec l'entrée : 00\n",
            "> 00: 0.75\n",
            "> 11: 0.25\n"
          ]
        }
      ],
      "source": [
        "measure2p(p_step_one_more)"
      ]
    },
    {
      "cell_type": "markdown",
      "id": "6ae1a006-f7ad-45cc-8bf6-3d5eac6a365d",
      "metadata": {
        "id": "6ae1a006-f7ad-45cc-8bf6-3d5eac6a365d"
      },
      "source": [
        "## Étape 2 : Les états de Bell\n",
        "\n",
        "Une fois qu'on a réussi à créer les états de Bell, encore faut-il savoir les mesurer pour pouvoir les utiliser. De la même manière que précédemment, pour mesurer dans une base $\\mathcal{B}$ quelconque, on va créer la matrice de passage de $\\mathcal{B}$ à $\\mathcal{B}_c$, notre base canonique, puis on mesurera dans cette même base connue.\n",
        "\n",
        "Combinez différentes portes pour obtenir la porte de changement de base, de la base de Bell à la base canonique. Les tests sont en dessous."
      ]
    },
    {
      "cell_type": "code",
      "execution_count": null,
      "id": "eaffd889cd95411f",
      "metadata": {
        "id": "eaffd889cd95411f"
      },
      "outputs": [],
      "source": [
        "step_two = Circuit(8, \"Passage Bell -> Canonique\").add(0, cnot).add(0, BS.H())"
      ]
    },
    {
      "cell_type": "code",
      "execution_count": null,
      "id": "681042e5595aa1cf",
      "metadata": {
        "colab": {
          "base_uri": "https://localhost:8080/",
          "height": 552
        },
        "id": "681042e5595aa1cf",
        "outputId": "20124738-3998-4d5d-b4e1-a3f73ed58afb"
      },
      "outputs": [
        {
          "output_type": "execute_result",
          "data": {
            "text/plain": [
              "<drawsvg.drawing.Drawing at 0x7fa861460b20>"
            ],
            "image/svg+xml": "<?xml version=\"1.0\" encoding=\"UTF-8\"?>\n<svg xmlns=\"http://www.w3.org/2000/svg\" xmlns:xlink=\"http://www.w3.org/1999/xlink\"\n     width=\"1670.0\" height=\"531.25\" viewBox=\"-36.0 0 1336.0 425.0\">\n<defs>\n</defs>\n<path d=\"M10,25 L25,25\" stroke-width=\"3\" stroke=\"darkred\" stroke-linejoin=\"miter\" fill=\"none\" />\n<path d=\"M10,75 L25,75\" stroke-width=\"3\" stroke=\"darkred\" stroke-linejoin=\"miter\" fill=\"none\" />\n<path d=\"M10,125 L25,125\" stroke-width=\"3\" stroke=\"darkred\" stroke-linejoin=\"miter\" fill=\"none\" />\n<path d=\"M10,175 L25,175\" stroke-width=\"3\" stroke=\"darkred\" stroke-linejoin=\"miter\" fill=\"none\" />\n<path d=\"M27,2 L1273,2 L1273,398 L27,398 Z\" stroke=\"black\" fill=\"lightblue\" stroke-dasharray=\"1,2\" stroke-linejoin=\"miter\" />\n<text x=\"29\" y=\"405\" font-size=\"8\" text-anchor=\"start\">CPLX</text>\n<path d=\"M25,25 L53,25 L72,44\" stroke=\"darkred\" stroke-width=\"3\" fill=\"none\" />\n<path d=\"M78,44 L97,25 L125,25\" stroke=\"darkred\" stroke-width=\"3\" fill=\"none\" />\n<path d=\"M25,75 L53,75 L72,56\" stroke=\"darkred\" stroke-width=\"3\" fill=\"none\" />\n<path d=\"M78,56 L97,75 L125,75\" stroke=\"darkred\" stroke-width=\"3\" fill=\"none\" />\n<path d=\"M50,43 L100,43 L100,57 L50,57 Z\" stroke=\"black\" fill=\"black\" stroke-linejoin=\"miter\" />\n<text x=\"75\" y=\"85\" font-size=\"7\" text-anchor=\"middle\"></text>\n<text x=\"75\" y=\"26\" font-size=\"7\" text-anchor=\"middle\"></text>\n<path d=\"M50,43 L100,43 L100,47 L50,47 Z\" stroke=\"black\" fill=\"lightgray\" stroke-linejoin=\"miter\" />\n<path d=\"M93,50 L103,50 L103,60 L93,60 Z\" stroke=\"black\" fill=\"aquamarine\" stroke-linejoin=\"miter\" />\n<text x=\"98\" y=\"57\" font-size=\"6\" text-anchor=\"middle\">H</text>\n<path d=\"M25,125 L125,125\" stroke=\"darkred\" stroke-width=\"3\" fill=\"none\" />\n<path d=\"M25,175 L125,175\" stroke=\"darkred\" stroke-width=\"3\" fill=\"none\" />\n<path d=\"M125,25 L225,25\" stroke=\"darkred\" stroke-width=\"3\" fill=\"none\" />\n<path d=\"M125,75 L225,75\" stroke=\"darkred\" stroke-width=\"3\" fill=\"none\" />\n<path d=\"M125,125 L225,125\" stroke=\"darkred\" stroke-width=\"3\" fill=\"none\" />\n<path d=\"M125,175 L225,175\" stroke=\"darkred\" stroke-width=\"3\" fill=\"none\" />\n<path d=\"M125,225 L225,225\" stroke=\"darkred\" stroke-width=\"3\" fill=\"none\" />\n<path d=\"M125,275 L225,275\" stroke=\"darkred\" stroke-width=\"3\" fill=\"none\" />\n<path d=\"M125,325 L225,325\" stroke=\"darkred\" stroke-width=\"3\" fill=\"none\" />\n<path d=\"M125,375 L225,375\" stroke=\"darkred\" stroke-width=\"3\" fill=\"none\" />\n<path d=\"M127.5,2.5 L222.5,2.5 L222.5,397.5 L127.5,397.5 Z\" stroke=\"darkred\" fill=\"lightpink\" stroke-linejoin=\"miter\" />\n<text x=\"135\" y=\"24\" font-size=\"8\" text-anchor=\"start\" font-weight=\"bold\"><tspan x=\"135\" dy=\"0em\">HERALDED</tspan><tspan x=\"135\" dy=\"1em\">CNOT</tspan></text>\n<path d=\"M225,25 L325,25\" stroke=\"darkred\" stroke-width=\"3\" fill=\"none\" />\n<path d=\"M225,75 L325,75\" stroke=\"darkred\" stroke-width=\"3\" fill=\"none\" />\n<path d=\"M225,125 L325,125\" stroke=\"darkred\" stroke-width=\"3\" fill=\"none\" />\n<path d=\"M225,175 L325,175\" stroke=\"darkred\" stroke-width=\"3\" fill=\"none\" />\n<path d=\"M225,225 L325,225\" stroke=\"darkred\" stroke-width=\"3\" fill=\"none\" />\n<path d=\"M225,275 L325,275\" stroke=\"darkred\" stroke-width=\"3\" fill=\"none\" />\n<path d=\"M225,325 L325,325\" stroke=\"darkred\" stroke-width=\"3\" fill=\"none\" />\n<path d=\"M225,375 L325,375\" stroke=\"darkred\" stroke-width=\"3\" fill=\"none\" />\n<path d=\"M227.5,2.5 L322.5,2.5 L322.5,397.5 L227.5,397.5 Z\" stroke=\"darkred\" fill=\"lightpink\" stroke-linejoin=\"miter\" />\n<text x=\"235\" y=\"40\" font-size=\"8\" text-anchor=\"start\" font-weight=\"bold\"><tspan x=\"235\" dy=\"0em\">PASSAGE</tspan><tspan x=\"235\" dy=\"1em\">BELL</tspan><tspan x=\"235\" dy=\"1em\">-&gt;</tspan><tspan x=\"235\" dy=\"1em\">CANONIQUE</tspan></text>\n<path d=\"M325,25 L340,25\" stroke-width=\"3\" stroke=\"darkred\" stroke-linejoin=\"miter\" fill=\"none\" />\n<path d=\"M325,75 L340,75\" stroke-width=\"3\" stroke=\"darkred\" stroke-linejoin=\"miter\" fill=\"none\" />\n<path d=\"M325,125 L340,125\" stroke-width=\"3\" stroke=\"darkred\" stroke-linejoin=\"miter\" fill=\"none\" />\n<path d=\"M325,175 L340,175\" stroke-width=\"3\" stroke=\"darkred\" stroke-linejoin=\"miter\" fill=\"none\" />\n<path d=\"M107,225 C107,225,107,215,117,215 L125,215 L125,235 L117,235 C107,235,107,225,107,225 L107,225\" stroke-width=\"1\" stroke=\"black\" stroke-linejoin=\"miter\" fill=\"white\" />\n<text x=\"113\" y=\"241\" font-size=\"6\" text-anchor=\"middle\" font-style=\"italic\">[herald0]</text>\n<text x=\"117\" y=\"228\" font-size=\"7\" text-anchor=\"middle\">0</text>\n<path d=\"M107,275 C107,275,107,265,117,265 L125,265 L125,285 L117,285 C107,285,107,275,107,275 L107,275\" stroke-width=\"1\" stroke=\"black\" stroke-linejoin=\"miter\" fill=\"white\" />\n<text x=\"113\" y=\"291\" font-size=\"6\" text-anchor=\"middle\" font-style=\"italic\">[herald1]</text>\n<text x=\"117\" y=\"278\" font-size=\"7\" text-anchor=\"middle\">1</text>\n<path d=\"M107,325 C107,325,107,315,117,315 L125,315 L125,335 L117,335 C107,335,107,325,107,325 L107,325\" stroke-width=\"1\" stroke=\"black\" stroke-linejoin=\"miter\" fill=\"white\" />\n<text x=\"113\" y=\"341\" font-size=\"6\" text-anchor=\"middle\" font-style=\"italic\">[herald2]</text>\n<text x=\"117\" y=\"328\" font-size=\"7\" text-anchor=\"middle\">0</text>\n<path d=\"M107,375 C107,375,107,365,117,365 L125,365 L125,385 L117,385 C107,385,107,375,107,375 L107,375\" stroke-width=\"1\" stroke=\"black\" stroke-linejoin=\"miter\" fill=\"white\" />\n<text x=\"113\" y=\"391\" font-size=\"6\" text-anchor=\"middle\" font-style=\"italic\">[herald3]</text>\n<text x=\"117\" y=\"378\" font-size=\"7\" text-anchor=\"middle\">1</text>\n<path d=\"M-2,15 L10,15 L10,85 L-2,85 Z\" stroke=\"black\" fill=\"lightgray\" stroke-linejoin=\"miter\" />\n<text x=\"4\" y=\"27\" font-size=\"7\" text-anchor=\"middle\">0</text>\n<text x=\"4\" y=\"77\" font-size=\"7\" text-anchor=\"middle\">1</text>\n<text x=\"-2\" y=\"91\" font-size=\"6\" text-anchor=\"start\" font-style=\"italic\">[0]</text>\n<path d=\"M-2,115 L10,115 L10,185 L-2,185 Z\" stroke=\"black\" fill=\"lightgray\" stroke-linejoin=\"miter\" />\n<text x=\"4\" y=\"127\" font-size=\"7\" text-anchor=\"middle\">2</text>\n<text x=\"4\" y=\"177\" font-size=\"7\" text-anchor=\"middle\">3</text>\n<text x=\"-2\" y=\"191\" font-size=\"6\" text-anchor=\"start\" font-style=\"italic\">[1]</text>\n<path d=\"M233,235 L225,235 L225,215 L233,215 C233,215,243,215,243,225 C243,235,233,235,233,235 L233,235\" stroke-width=\"1\" stroke=\"black\" stroke-linejoin=\"miter\" fill=\"white\" />\n<text x=\"238\" y=\"241\" font-size=\"6\" text-anchor=\"middle\" font-style=\"italic\">[herald0]</text>\n<text x=\"233\" y=\"228\" font-size=\"7\" text-anchor=\"middle\">0</text>\n<path d=\"M233,285 L225,285 L225,265 L233,265 C233,265,243,265,243,275 C243,285,233,285,233,285 L233,285\" stroke-width=\"1\" stroke=\"black\" stroke-linejoin=\"miter\" fill=\"white\" />\n<text x=\"238\" y=\"291\" font-size=\"6\" text-anchor=\"middle\" font-style=\"italic\">[herald1]</text>\n<text x=\"233\" y=\"278\" font-size=\"7\" text-anchor=\"middle\">1</text>\n<path d=\"M233,335 L225,335 L225,315 L233,315 C233,315,243,315,243,325 C243,335,233,335,233,335 L233,335\" stroke-width=\"1\" stroke=\"black\" stroke-linejoin=\"miter\" fill=\"white\" />\n<text x=\"238\" y=\"341\" font-size=\"6\" text-anchor=\"middle\" font-style=\"italic\">[herald2]</text>\n<text x=\"233\" y=\"328\" font-size=\"7\" text-anchor=\"middle\">0</text>\n<path d=\"M233,385 L225,385 L225,365 L233,365 C233,365,243,365,243,375 C243,385,233,385,233,385 L233,385\" stroke-width=\"1\" stroke=\"black\" stroke-linejoin=\"miter\" fill=\"white\" />\n<text x=\"238\" y=\"391\" font-size=\"6\" text-anchor=\"middle\" font-style=\"italic\">[herald3]</text>\n<text x=\"233\" y=\"378\" font-size=\"7\" text-anchor=\"middle\">1</text>\n<path d=\"M340,15 L352,15 L352,85 L340,85 Z\" stroke=\"black\" fill=\"lightgray\" stroke-linejoin=\"miter\" />\n<text x=\"346\" y=\"27\" font-size=\"7\" text-anchor=\"middle\">0</text>\n<text x=\"346\" y=\"77\" font-size=\"7\" text-anchor=\"middle\">1</text>\n<text x=\"352\" y=\"91\" font-size=\"6\" text-anchor=\"end\" font-style=\"italic\">[0]</text>\n<path d=\"M340,115 L352,115 L352,185 L340,185 Z\" stroke=\"black\" fill=\"lightgray\" stroke-linejoin=\"miter\" />\n<text x=\"346\" y=\"127\" font-size=\"7\" text-anchor=\"middle\">2</text>\n<text x=\"346\" y=\"177\" font-size=\"7\" text-anchor=\"middle\">3</text>\n<text x=\"352\" y=\"191\" font-size=\"6\" text-anchor=\"end\" font-style=\"italic\">[1]</text>\n</svg>"
          },
          "metadata": {},
          "execution_count": 33
        }
      ],
      "source": [
        "test_passage = Circuit(8).add(0, BS.H()).add(0, cnot).add(0, step_two)\n",
        "p_test_passage = pcvl.Processor(\"Naive\", test_passage)\n",
        "p_test_passage.min_detected_photons_filter(0)\n",
        "p_test_passage.add_herald(4, 0)\n",
        "p_test_passage.add_herald(5, 1)\n",
        "p_test_passage.add_herald(6, 0)\n",
        "p_test_passage.add_herald(7, 1)\n",
        "p_test_passage.add_port(0, pcvl.Port(pcvl.Encoding.DUAL_RAIL, \"0\"))\n",
        "p_test_passage.add_port(2, pcvl.Port(pcvl.Encoding.DUAL_RAIL, \"1\"))\n",
        "pdisplay(p_test_passage, recursive=True)"
      ]
    },
    {
      "cell_type": "markdown",
      "id": "d79e41cf2e10b985",
      "metadata": {
        "collapsed": false,
        "id": "d79e41cf2e10b985"
      },
      "source": [
        "Le circuit de test passe dans la base de Bell, puis retourne dans la base canonique. On s'attend donc à trouver l'identité (à quelques arrondis près).\n",
        "\n",
        "***Attention***, pour l'instant les tests demandent au circuit d'avoir 8 rails."
      ]
    },
    {
      "cell_type": "code",
      "execution_count": null,
      "id": "fea7ef60f93aa278",
      "metadata": {
        "colab": {
          "base_uri": "https://localhost:8080/"
        },
        "id": "fea7ef60f93aa278",
        "outputId": "bb8cc3de-b3b9-49d4-d7b2-edea522efb00"
      },
      "outputs": [
        {
          "output_type": "stream",
          "name": "stdout",
          "text": [
            "Avec l'entrée : 00\n",
            "> 00: 0.96\n",
            "> 01: 0.02\n",
            "> 10: 0.02\n",
            "> 11: 0.0\n"
          ]
        }
      ],
      "source": [
        "measure2p(p_test_passage)"
      ]
    },
    {
      "cell_type": "code",
      "execution_count": null,
      "id": "94d3cf319484139c",
      "metadata": {
        "colab": {
          "base_uri": "https://localhost:8080/"
        },
        "id": "94d3cf319484139c",
        "outputId": "17f1de3c-d4c0-4d60-9257-a712ccf54e1e"
      },
      "outputs": [
        {
          "output_type": "stream",
          "name": "stdout",
          "text": [
            "Avec l'entrée : 01\n",
            "> 00: 0.02\n",
            "> 01: 0.96\n",
            "> 10: 0.0\n",
            "> 11: 0.02\n"
          ]
        }
      ],
      "source": [
        "measure2p(p_test_passage, qubits[\"01\"])"
      ]
    },
    {
      "cell_type": "code",
      "execution_count": null,
      "id": "55c96e62355a7bd5",
      "metadata": {
        "colab": {
          "base_uri": "https://localhost:8080/"
        },
        "id": "55c96e62355a7bd5",
        "outputId": "8f3cca8b-d8a9-48b6-c363-1f0879658c78"
      },
      "outputs": [
        {
          "output_type": "stream",
          "name": "stdout",
          "text": [
            "Avec l'entrée : 10\n",
            "> 00: 0.02\n",
            "> 01: 0.0\n",
            "> 10: 0.96\n",
            "> 11: 0.02\n"
          ]
        }
      ],
      "source": [
        "measure2p(p_test_passage, qubits[\"10\"])"
      ]
    },
    {
      "cell_type": "code",
      "execution_count": null,
      "id": "132549d8febbb7d",
      "metadata": {
        "colab": {
          "base_uri": "https://localhost:8080/"
        },
        "id": "132549d8febbb7d",
        "outputId": "45a9e722-648b-4610-f967-1f713f48e369"
      },
      "outputs": [
        {
          "output_type": "stream",
          "name": "stdout",
          "text": [
            "Avec l'entrée : 11\n",
            "> 00: 0.0\n",
            "> 01: 0.02\n",
            "> 10: 0.02\n",
            "> 11: 0.96\n"
          ]
        }
      ],
      "source": [
        "measure2p(p_test_passage, qubits[\"11\"])"
      ]
    },
    {
      "cell_type": "markdown",
      "id": "33c252f9-eb36-4e91-aa24-1b84b6eeaca3",
      "metadata": {
        "id": "33c252f9-eb36-4e91-aa24-1b84b6eeaca3"
      },
      "source": [
        "## Étape 3 : Trivial ?\n",
        "\n",
        "Créez l'état :\n",
        "$$\n",
        "|\\psi\\rangle = \\frac{1}{\\sqrt{3}}(|01\\rangle + |10\\rangle + |11\\rangle)\n",
        "$$"
      ]
    },
    {
      "cell_type": "code",
      "execution_count": null,
      "id": "4b4e2d22-503a-4e28-aa5a-ab7743c68a08",
      "metadata": {
        "colab": {
          "base_uri": "https://localhost:8080/",
          "height": 552
        },
        "id": "4b4e2d22-503a-4e28-aa5a-ab7743c68a08",
        "outputId": "016a2d53-3f2d-459d-9e70-714610d06214"
      },
      "outputs": [
        {
          "output_type": "execute_result",
          "data": {
            "text/plain": [
              "<drawsvg.drawing.Drawing at 0x7fa860375930>"
            ],
            "image/svg+xml": "<?xml version=\"1.0\" encoding=\"UTF-8\"?>\n<svg xmlns=\"http://www.w3.org/2000/svg\" xmlns:xlink=\"http://www.w3.org/1999/xlink\"\n     width=\"1732.5\" height=\"531.25\" viewBox=\"-36.0 0 1386.0 425.0\">\n<defs>\n</defs>\n<path d=\"M10,25 L25,25\" stroke-width=\"3\" stroke=\"darkred\" stroke-linejoin=\"miter\" fill=\"none\" />\n<path d=\"M10,75 L25,75\" stroke-width=\"3\" stroke=\"darkred\" stroke-linejoin=\"miter\" fill=\"none\" />\n<path d=\"M10,125 L25,125\" stroke-width=\"3\" stroke=\"darkred\" stroke-linejoin=\"miter\" fill=\"none\" />\n<path d=\"M10,175 L25,175\" stroke-width=\"3\" stroke=\"darkred\" stroke-linejoin=\"miter\" fill=\"none\" />\n<path d=\"M27,2 L1323,2 L1323,398 L27,398 Z\" stroke=\"black\" fill=\"lightblue\" stroke-dasharray=\"1,2\" stroke-linejoin=\"miter\" />\n<text x=\"29\" y=\"405\" font-size=\"8\" text-anchor=\"start\">CPLX</text>\n<path d=\"M25,125 L53,125 L72,144\" stroke=\"darkred\" stroke-width=\"3\" fill=\"none\" />\n<path d=\"M78,144 L97,125 L125,125\" stroke=\"darkred\" stroke-width=\"3\" fill=\"none\" />\n<path d=\"M25,175 L53,175 L72,156\" stroke=\"darkred\" stroke-width=\"3\" fill=\"none\" />\n<path d=\"M78,156 L97,175 L125,175\" stroke=\"darkred\" stroke-width=\"3\" fill=\"none\" />\n<path d=\"M50,143 L100,143 L100,157 L50,157 Z\" stroke=\"black\" fill=\"black\" stroke-linejoin=\"miter\" />\n<text x=\"75\" y=\"180\" font-size=\"7\" text-anchor=\"middle\"></text>\n<text x=\"75\" y=\"126\" font-size=\"7\" text-anchor=\"middle\">Θ=9*pi/31</text>\n<path d=\"M50,143 L100,143 L100,147 L50,147 Z\" stroke=\"black\" fill=\"lightgray\" stroke-linejoin=\"miter\" />\n<path d=\"M93,150 L103,150 L103,160 L93,160 Z\" stroke=\"black\" fill=\"aquamarine\" stroke-linejoin=\"miter\" />\n<text x=\"98\" y=\"157\" font-size=\"6\" text-anchor=\"middle\">H</text>\n<path d=\"M25,75 L125,75\" stroke=\"darkred\" stroke-width=\"3\" fill=\"none\" />\n<path d=\"M125,75 L153,75 L172,94\" stroke=\"darkred\" stroke-width=\"3\" fill=\"none\" />\n<path d=\"M178,94 L197,75 L225,75\" stroke=\"darkred\" stroke-width=\"3\" fill=\"none\" />\n<path d=\"M125,125 L153,125 L172,106\" stroke=\"darkred\" stroke-width=\"3\" fill=\"none\" />\n<path d=\"M178,106 L197,125 L225,125\" stroke=\"darkred\" stroke-width=\"3\" fill=\"none\" />\n<path d=\"M150,93 L200,93 L200,107 L150,107 Z\" stroke=\"black\" fill=\"black\" stroke-linejoin=\"miter\" />\n<text x=\"175\" y=\"135\" font-size=\"7\" text-anchor=\"middle\"></text>\n<text x=\"175\" y=\"76\" font-size=\"7\" text-anchor=\"middle\"></text>\n<path d=\"M150,93 L200,93 L200,97 L150,97 Z\" stroke=\"black\" fill=\"lightgray\" stroke-linejoin=\"miter\" />\n<path d=\"M193,100 L203,100 L203,110 L193,110 Z\" stroke=\"black\" fill=\"aquamarine\" stroke-linejoin=\"miter\" />\n<text x=\"198\" y=\"107\" font-size=\"6\" text-anchor=\"middle\">H</text>\n<path d=\"M25,25 L225,25\" stroke=\"darkred\" stroke-width=\"3\" fill=\"none\" />\n<path d=\"M225,25 L253,25 L272,44\" stroke=\"darkred\" stroke-width=\"3\" fill=\"none\" />\n<path d=\"M278,44 L297,25 L325,25\" stroke=\"darkred\" stroke-width=\"3\" fill=\"none\" />\n<path d=\"M225,75 L253,75 L272,56\" stroke=\"darkred\" stroke-width=\"3\" fill=\"none\" />\n<path d=\"M278,56 L297,75 L325,75\" stroke=\"darkred\" stroke-width=\"3\" fill=\"none\" />\n<path d=\"M250,43 L300,43 L300,57 L250,57 Z\" stroke=\"black\" fill=\"black\" stroke-linejoin=\"miter\" />\n<text x=\"275\" y=\"85\" font-size=\"7\" text-anchor=\"middle\"></text>\n<text x=\"275\" y=\"26\" font-size=\"7\" text-anchor=\"middle\"></text>\n<path d=\"M250,43 L300,43 L300,47 L250,47 Z\" stroke=\"black\" fill=\"lightgray\" stroke-linejoin=\"miter\" />\n<path d=\"M293,50 L303,50 L303,60 L293,60 Z\" stroke=\"black\" fill=\"aquamarine\" stroke-linejoin=\"miter\" />\n<text x=\"298\" y=\"57\" font-size=\"6\" text-anchor=\"middle\">H</text>\n<path d=\"M225,125 L325,125\" stroke=\"darkred\" stroke-width=\"3\" fill=\"none\" />\n<path d=\"M125,175 L325,175\" stroke=\"darkred\" stroke-width=\"3\" fill=\"none\" />\n<path d=\"M325,25 L425,25\" stroke=\"darkred\" stroke-width=\"3\" fill=\"none\" />\n<path d=\"M325,75 L425,75\" stroke=\"darkred\" stroke-width=\"3\" fill=\"none\" />\n<path d=\"M325,125 L425,125\" stroke=\"darkred\" stroke-width=\"3\" fill=\"none\" />\n<path d=\"M325,175 L425,175\" stroke=\"darkred\" stroke-width=\"3\" fill=\"none\" />\n<path d=\"M325,225 L425,225\" stroke=\"darkred\" stroke-width=\"3\" fill=\"none\" />\n<path d=\"M325,275 L425,275\" stroke=\"darkred\" stroke-width=\"3\" fill=\"none\" />\n<path d=\"M325,325 L425,325\" stroke=\"darkred\" stroke-width=\"3\" fill=\"none\" />\n<path d=\"M325,375 L425,375\" stroke=\"darkred\" stroke-width=\"3\" fill=\"none\" />\n<path d=\"M327.5,2.5 L422.5,2.5 L422.5,397.5 L327.5,397.5 Z\" stroke=\"darkred\" fill=\"lightpink\" stroke-linejoin=\"miter\" />\n<text x=\"335\" y=\"24\" font-size=\"8\" text-anchor=\"start\" font-weight=\"bold\"><tspan x=\"335\" dy=\"0em\">HERALDED</tspan><tspan x=\"335\" dy=\"1em\">CNOT</tspan></text>\n<path d=\"M428,25 L472,25\" stroke=\"white\" stroke-width=\"6\" fill=\"none\" />\n<path d=\"M425,25 L428,25 L472,25 L475,25\" stroke=\"darkred\" stroke-width=\"3\" fill=\"none\" />\n<path d=\"M428,75 L472,125\" stroke=\"white\" stroke-width=\"6\" fill=\"none\" />\n<path d=\"M425,75 L428,75 L472,125 L475,125\" stroke=\"darkred\" stroke-width=\"3\" fill=\"none\" />\n<path d=\"M428,125 L472,75\" stroke=\"white\" stroke-width=\"6\" fill=\"none\" />\n<path d=\"M425,125 L428,125 L472,75 L475,75\" stroke=\"darkred\" stroke-width=\"3\" fill=\"none\" />\n<path d=\"M428,175 L472,175\" stroke=\"white\" stroke-width=\"6\" fill=\"none\" />\n<path d=\"M425,175 L428,175 L472,175 L475,175\" stroke=\"darkred\" stroke-width=\"3\" fill=\"none\" />\n<path d=\"M475,25 L490,25\" stroke-width=\"3\" stroke=\"darkred\" stroke-linejoin=\"miter\" fill=\"none\" />\n<path d=\"M475,75 L490,75\" stroke-width=\"3\" stroke=\"darkred\" stroke-linejoin=\"miter\" fill=\"none\" />\n<path d=\"M475,125 L490,125\" stroke-width=\"3\" stroke=\"darkred\" stroke-linejoin=\"miter\" fill=\"none\" />\n<path d=\"M475,175 L490,175\" stroke-width=\"3\" stroke=\"darkred\" stroke-linejoin=\"miter\" fill=\"none\" />\n<path d=\"M307,225 C307,225,307,215,317,215 L325,215 L325,235 L317,235 C307,235,307,225,307,225 L307,225\" stroke-width=\"1\" stroke=\"black\" stroke-linejoin=\"miter\" fill=\"white\" />\n<text x=\"313\" y=\"241\" font-size=\"6\" text-anchor=\"middle\" font-style=\"italic\">[herald0]</text>\n<text x=\"317\" y=\"228\" font-size=\"7\" text-anchor=\"middle\">0</text>\n<path d=\"M307,275 C307,275,307,265,317,265 L325,265 L325,285 L317,285 C307,285,307,275,307,275 L307,275\" stroke-width=\"1\" stroke=\"black\" stroke-linejoin=\"miter\" fill=\"white\" />\n<text x=\"313\" y=\"291\" font-size=\"6\" text-anchor=\"middle\" font-style=\"italic\">[herald1]</text>\n<text x=\"317\" y=\"278\" font-size=\"7\" text-anchor=\"middle\">1</text>\n<path d=\"M307,325 C307,325,307,315,317,315 L325,315 L325,335 L317,335 C307,335,307,325,307,325 L307,325\" stroke-width=\"1\" stroke=\"black\" stroke-linejoin=\"miter\" fill=\"white\" />\n<text x=\"313\" y=\"341\" font-size=\"6\" text-anchor=\"middle\" font-style=\"italic\">[herald2]</text>\n<text x=\"317\" y=\"328\" font-size=\"7\" text-anchor=\"middle\">0</text>\n<path d=\"M307,375 C307,375,307,365,317,365 L325,365 L325,385 L317,385 C307,385,307,375,307,375 L307,375\" stroke-width=\"1\" stroke=\"black\" stroke-linejoin=\"miter\" fill=\"white\" />\n<text x=\"313\" y=\"391\" font-size=\"6\" text-anchor=\"middle\" font-style=\"italic\">[herald3]</text>\n<text x=\"317\" y=\"378\" font-size=\"7\" text-anchor=\"middle\">1</text>\n<path d=\"M-2,15 L10,15 L10,85 L-2,85 Z\" stroke=\"black\" fill=\"lightgray\" stroke-linejoin=\"miter\" />\n<text x=\"4\" y=\"27\" font-size=\"7\" text-anchor=\"middle\">0</text>\n<text x=\"4\" y=\"77\" font-size=\"7\" text-anchor=\"middle\">1</text>\n<text x=\"-2\" y=\"91\" font-size=\"6\" text-anchor=\"start\" font-style=\"italic\">[0]</text>\n<path d=\"M-2,115 L10,115 L10,185 L-2,185 Z\" stroke=\"black\" fill=\"lightgray\" stroke-linejoin=\"miter\" />\n<text x=\"4\" y=\"127\" font-size=\"7\" text-anchor=\"middle\">2</text>\n<text x=\"4\" y=\"177\" font-size=\"7\" text-anchor=\"middle\">3</text>\n<text x=\"-2\" y=\"191\" font-size=\"6\" text-anchor=\"start\" font-style=\"italic\">[1]</text>\n<path d=\"M433,235 L425,235 L425,215 L433,215 C433,215,443,215,443,225 C443,235,433,235,433,235 L433,235\" stroke-width=\"1\" stroke=\"black\" stroke-linejoin=\"miter\" fill=\"white\" />\n<text x=\"438\" y=\"241\" font-size=\"6\" text-anchor=\"middle\" font-style=\"italic\">[herald0]</text>\n<text x=\"433\" y=\"228\" font-size=\"7\" text-anchor=\"middle\">0</text>\n<path d=\"M433,285 L425,285 L425,265 L433,265 C433,265,443,265,443,275 C443,285,433,285,433,285 L433,285\" stroke-width=\"1\" stroke=\"black\" stroke-linejoin=\"miter\" fill=\"white\" />\n<text x=\"438\" y=\"291\" font-size=\"6\" text-anchor=\"middle\" font-style=\"italic\">[herald1]</text>\n<text x=\"433\" y=\"278\" font-size=\"7\" text-anchor=\"middle\">1</text>\n<path d=\"M433,335 L425,335 L425,315 L433,315 C433,315,443,315,443,325 C443,335,433,335,433,335 L433,335\" stroke-width=\"1\" stroke=\"black\" stroke-linejoin=\"miter\" fill=\"white\" />\n<text x=\"438\" y=\"341\" font-size=\"6\" text-anchor=\"middle\" font-style=\"italic\">[herald2]</text>\n<text x=\"433\" y=\"328\" font-size=\"7\" text-anchor=\"middle\">0</text>\n<path d=\"M433,385 L425,385 L425,365 L433,365 C433,365,443,365,443,375 C443,385,433,385,433,385 L433,385\" stroke-width=\"1\" stroke=\"black\" stroke-linejoin=\"miter\" fill=\"white\" />\n<text x=\"438\" y=\"391\" font-size=\"6\" text-anchor=\"middle\" font-style=\"italic\">[herald3]</text>\n<text x=\"433\" y=\"378\" font-size=\"7\" text-anchor=\"middle\">1</text>\n<path d=\"M490,15 L502,15 L502,85 L490,85 Z\" stroke=\"black\" fill=\"lightgray\" stroke-linejoin=\"miter\" />\n<text x=\"496\" y=\"27\" font-size=\"7\" text-anchor=\"middle\">0</text>\n<text x=\"496\" y=\"77\" font-size=\"7\" text-anchor=\"middle\">1</text>\n<text x=\"502\" y=\"91\" font-size=\"6\" text-anchor=\"end\" font-style=\"italic\">[0]</text>\n<path d=\"M490,115 L502,115 L502,185 L490,185 Z\" stroke=\"black\" fill=\"lightgray\" stroke-linejoin=\"miter\" />\n<text x=\"496\" y=\"127\" font-size=\"7\" text-anchor=\"middle\">2</text>\n<text x=\"496\" y=\"177\" font-size=\"7\" text-anchor=\"middle\">3</text>\n<text x=\"502\" y=\"191\" font-size=\"6\" text-anchor=\"end\" font-style=\"italic\">[1]</text>\n</svg>"
          },
          "metadata": {},
          "execution_count": 119
        }
      ],
      "source": [
        "step_three = Circuit(8).add(2, BS.H((9/31)*pi)).add(1, BS.H()).add(0, BS.H()).add(0, cnot).add(0, PERM([0,2,1,3]))\n",
        "\n",
        "# step_three = Circuit(8).add(0, PERM([1,0])).add(1, BS.H()).add(2, BS.H())\n",
        "\n",
        "p_step_three = Processor(\"Naive\", step_three)\n",
        "p_step_three.min_detected_photons_filter(0)\n",
        "p_step_three.add_herald(4, 0)\n",
        "p_step_three.add_herald(5, 1)\n",
        "p_step_three.add_herald(6, 0)\n",
        "p_step_three.add_herald(7, 1)\n",
        "p_step_three.add_port(0, pcvl.Port(pcvl.Encoding.DUAL_RAIL, \"0\"))\n",
        "p_step_three.add_port(2, pcvl.Port(pcvl.Encoding.DUAL_RAIL, \"1\"))\n",
        "\n",
        "#pdisplay(step_three)\n",
        "pdisplay(p_step_three, recursive=True)"
      ]
    },
    {
      "cell_type": "code",
      "execution_count": null,
      "id": "43109a9c-5913-4c24-a0ad-819bee6aa21d",
      "metadata": {
        "colab": {
          "base_uri": "https://localhost:8080/"
        },
        "id": "43109a9c-5913-4c24-a0ad-819bee6aa21d",
        "outputId": "ca7a67d4-136f-4b6b-babe-0f0389459681"
      },
      "outputs": [
        {
          "output_type": "stream",
          "name": "stdout",
          "text": [
            "Avec l'entrée : 00\n",
            "> 01: 0.33\n",
            "> 10: 0.33\n",
            "> 11: 0.34\n"
          ]
        }
      ],
      "source": [
        "measure2p(p_step_three)"
      ]
    },
    {
      "cell_type": "markdown",
      "id": "74de1998-8db4-4d1d-bc80-a8a8f1626dc6",
      "metadata": {
        "id": "74de1998-8db4-4d1d-bc80-a8a8f1626dc6"
      },
      "source": [
        "## Récupération du drapeau"
      ]
    },
    {
      "cell_type": "code",
      "execution_count": null,
      "id": "75026fe43581b978",
      "metadata": {
        "id": "75026fe43581b978"
      },
      "outputs": [],
      "source": [
        "def circuit_to_list(circuit: Circuit) -> List[List[Tuple[float, float]]]:\n",
        "    return [[(x.real, x.imag) for x in l] for l in np.array(circuit.compute_unitary())]\n",
        "\n",
        "d = {\n",
        "    \"step_one\": circuit_to_list(step_one),\n",
        "    \"step_one_more\": circuit_to_list(step_one_more),\n",
        "    \"step_two\": circuit_to_list(step_two),\n",
        "    \"step_three\": circuit_to_list(step_three)\n",
        "}"
      ]
    },
    {
      "cell_type": "code",
      "execution_count": null,
      "id": "caddbdda1ebf3061",
      "metadata": {
        "colab": {
          "base_uri": "https://localhost:8080/"
        },
        "id": "caddbdda1ebf3061",
        "outputId": "3767c501-0dc4-4eb2-906f-ecdfa71c7385"
      },
      "outputs": [
        {
          "output_type": "execute_result",
          "data": {
            "text/plain": [
              "{'message': 'Statut : en pleine forme !'}"
            ]
          },
          "metadata": {},
          "execution_count": 122
        }
      ],
      "source": [
        "import requests as rq\n",
        "\n",
        "URL = \"https://perceval.challenges.404ctf.fr\"\n",
        "rq.get(URL + \"/healthcheck\").json()"
      ]
    },
    {
      "cell_type": "code",
      "execution_count": null,
      "id": "4e70a551c7208c4a",
      "metadata": {
        "colab": {
          "base_uri": "https://localhost:8080/"
        },
        "id": "4e70a551c7208c4a",
        "outputId": "87c5604e-e642-486e-b0ca-4ba5420a582d"
      },
      "outputs": [
        {
          "output_type": "execute_result",
          "data": {
            "text/plain": [
              "{'message': 'GG ! Voici le drapeau : 404CTF{d_Un3_tR1v14l1t3_AbS0lu3}'}"
            ]
          },
          "metadata": {},
          "execution_count": 123
        }
      ],
      "source": [
        "rq.post(URL + \"/challenges/3\", json=d).json()"
      ]
    }
  ],
  "metadata": {
    "colab": {
      "provenance": []
    },
    "kernelspec": {
      "display_name": "Python (Perceval)",
      "language": "python",
      "name": "perceval"
    },
    "language_info": {
      "codemirror_mode": {
        "name": "ipython",
        "version": 3
      },
      "file_extension": ".py",
      "mimetype": "text/x-python",
      "name": "python",
      "nbconvert_exporter": "python",
      "pygments_lexer": "ipython3",
      "version": "3.11.8"
    }
  },
  "nbformat": 4,
  "nbformat_minor": 5
}